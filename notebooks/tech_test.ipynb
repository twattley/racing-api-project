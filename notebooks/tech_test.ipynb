{
 "cells": [
  {
   "cell_type": "code",
   "execution_count": 2,
   "metadata": {},
   "outputs": [],
   "source": [
    "list_a = [1, 2, 3, 4, 5]\n",
    "list_b = [6, 7, 8, 9, 10]\n",
    "\n",
    "\n",
    "list_c = [x + y for x, y in zip(list_a, list_b)]\n",
    "dict_c = {x: y for x, y in zip(list_a, list_b)}"
   ]
  },
  {
   "cell_type": "code",
   "execution_count": 3,
   "metadata": {},
   "outputs": [
    {
     "data": {
      "text/plain": [
       "[7, 9, 11, 13, 15]"
      ]
     },
     "execution_count": 3,
     "metadata": {},
     "output_type": "execute_result"
    }
   ],
   "source": [
    "list_c"
   ]
  },
  {
   "cell_type": "code",
   "execution_count": 4,
   "metadata": {},
   "outputs": [],
   "source": [
    "def deco(func):\n",
    "    def inner(func):\n",
    "        print('running inner()')\n",
    "    return inner  \n",
    "\n",
    "@deco\n",
    "def target():  \n",
    "    print('running target()')"
   ]
  },
  {
   "cell_type": "code",
   "execution_count": 5,
   "metadata": {},
   "outputs": [],
   "source": [
    "target = deco(target)"
   ]
  },
  {
   "cell_type": "code",
   "execution_count": 6,
   "metadata": {},
   "outputs": [],
   "source": [
    "import pandas as pd\n",
    "import numpy as np\n",
    "\n",
    "# Sales data for multiple stores\n",
    "sales = pd.DataFrame(\n",
    "    {\"revenue\": [1000, 1200, 800, 950]},\n",
    "    index=pd.Index([\"LON\", \"NYC\", \"TOK\", \"SYD\"], name=\"store_id\"),\n",
    ")\n",
    "\n",
    "# Manager data, but only for a SUBSET of stores\n",
    "managers = pd.DataFrame(\n",
    "    {\"manager\": [\"Alice\", \"Charlie\"]}, index=pd.Index([\"LON\", \"TOK\"], name=\"store_id\")\n",
    ")"
   ]
  },
  {
   "cell_type": "code",
   "execution_count": 7,
   "metadata": {},
   "outputs": [
    {
     "data": {
      "text/html": [
       "<div>\n",
       "<style scoped>\n",
       "    .dataframe tbody tr th:only-of-type {\n",
       "        vertical-align: middle;\n",
       "    }\n",
       "\n",
       "    .dataframe tbody tr th {\n",
       "        vertical-align: top;\n",
       "    }\n",
       "\n",
       "    .dataframe thead th {\n",
       "        text-align: right;\n",
       "    }\n",
       "</style>\n",
       "<table border=\"1\" class=\"dataframe\">\n",
       "  <thead>\n",
       "    <tr style=\"text-align: right;\">\n",
       "      <th></th>\n",
       "      <th>revenue</th>\n",
       "    </tr>\n",
       "    <tr>\n",
       "      <th>store_id</th>\n",
       "      <th></th>\n",
       "    </tr>\n",
       "  </thead>\n",
       "  <tbody>\n",
       "    <tr>\n",
       "      <th>LON</th>\n",
       "      <td>1000</td>\n",
       "    </tr>\n",
       "    <tr>\n",
       "      <th>NYC</th>\n",
       "      <td>1200</td>\n",
       "    </tr>\n",
       "    <tr>\n",
       "      <th>TOK</th>\n",
       "      <td>800</td>\n",
       "    </tr>\n",
       "    <tr>\n",
       "      <th>SYD</th>\n",
       "      <td>950</td>\n",
       "    </tr>\n",
       "  </tbody>\n",
       "</table>\n",
       "</div>"
      ],
      "text/plain": [
       "          revenue\n",
       "store_id         \n",
       "LON          1000\n",
       "NYC          1200\n",
       "TOK           800\n",
       "SYD           950"
      ]
     },
     "execution_count": 7,
     "metadata": {},
     "output_type": "execute_result"
    }
   ],
   "source": [
    "sales"
   ]
  },
  {
   "cell_type": "code",
   "execution_count": 8,
   "metadata": {},
   "outputs": [
    {
     "data": {
      "text/html": [
       "<div>\n",
       "<style scoped>\n",
       "    .dataframe tbody tr th:only-of-type {\n",
       "        vertical-align: middle;\n",
       "    }\n",
       "\n",
       "    .dataframe tbody tr th {\n",
       "        vertical-align: top;\n",
       "    }\n",
       "\n",
       "    .dataframe thead th {\n",
       "        text-align: right;\n",
       "    }\n",
       "</style>\n",
       "<table border=\"1\" class=\"dataframe\">\n",
       "  <thead>\n",
       "    <tr style=\"text-align: right;\">\n",
       "      <th></th>\n",
       "      <th>manager</th>\n",
       "    </tr>\n",
       "    <tr>\n",
       "      <th>store_id</th>\n",
       "      <th></th>\n",
       "    </tr>\n",
       "  </thead>\n",
       "  <tbody>\n",
       "    <tr>\n",
       "      <th>LON</th>\n",
       "      <td>Alice</td>\n",
       "    </tr>\n",
       "    <tr>\n",
       "      <th>TOK</th>\n",
       "      <td>Charlie</td>\n",
       "    </tr>\n",
       "  </tbody>\n",
       "</table>\n",
       "</div>"
      ],
      "text/plain": [
       "          manager\n",
       "store_id         \n",
       "LON         Alice\n",
       "TOK       Charlie"
      ]
     },
     "execution_count": 8,
     "metadata": {},
     "output_type": "execute_result"
    }
   ],
   "source": [
    "managers"
   ]
  },
  {
   "cell_type": "code",
   "execution_count": 48,
   "metadata": {},
   "outputs": [],
   "source": [
    "df = pd.DataFrame(\n",
    "    {\n",
    "        \"unique_id\": [1, 2, 3, 4],\n",
    "        \"col1\": [1, 1, 2, 2],\n",
    "        \"col2\": [2, 2, 3, 3],\n",
    "        \"col3\": [3, 3, 4, 4],\n",
    "        \"col4\": [\"a\", \"a\", \"b\", \"b\"],\n",
    "        \"col5\": [True, True, False, False],\n",
    "    }\n",
    ")\n",
    "\n",
    "# pids = df[(df[\"col1\"] > 1) & (df[\"col2\"] > 2)]['unique_id'].unique()\n",
    "\n",
    "# df = df.assign(fid=np.where(df[\"unique_id\"].isin(pids), True, False))\n",
    "\n",
    "# df"
   ]
  },
  {
   "cell_type": "code",
   "execution_count": 10,
   "metadata": {},
   "outputs": [
    {
     "data": {
      "text/html": [
       "<div>\n",
       "<style scoped>\n",
       "    .dataframe tbody tr th:only-of-type {\n",
       "        vertical-align: middle;\n",
       "    }\n",
       "\n",
       "    .dataframe tbody tr th {\n",
       "        vertical-align: top;\n",
       "    }\n",
       "\n",
       "    .dataframe thead th {\n",
       "        text-align: right;\n",
       "    }\n",
       "</style>\n",
       "<table border=\"1\" class=\"dataframe\">\n",
       "  <thead>\n",
       "    <tr style=\"text-align: right;\">\n",
       "      <th></th>\n",
       "      <th>unique_id</th>\n",
       "      <th>col1</th>\n",
       "      <th>col2</th>\n",
       "      <th>col3</th>\n",
       "      <th>col4</th>\n",
       "      <th>col5</th>\n",
       "      <th>fid</th>\n",
       "      <th>sfid</th>\n",
       "    </tr>\n",
       "  </thead>\n",
       "  <tbody>\n",
       "    <tr>\n",
       "      <th>0</th>\n",
       "      <td>1</td>\n",
       "      <td>1</td>\n",
       "      <td>2</td>\n",
       "      <td>3</td>\n",
       "      <td>a</td>\n",
       "      <td>True</td>\n",
       "      <td>False</td>\n",
       "      <td>False</td>\n",
       "    </tr>\n",
       "    <tr>\n",
       "      <th>1</th>\n",
       "      <td>2</td>\n",
       "      <td>1</td>\n",
       "      <td>2</td>\n",
       "      <td>3</td>\n",
       "      <td>a</td>\n",
       "      <td>True</td>\n",
       "      <td>False</td>\n",
       "      <td>False</td>\n",
       "    </tr>\n",
       "    <tr>\n",
       "      <th>2</th>\n",
       "      <td>3</td>\n",
       "      <td>2</td>\n",
       "      <td>3</td>\n",
       "      <td>4</td>\n",
       "      <td>b</td>\n",
       "      <td>False</td>\n",
       "      <td>True</td>\n",
       "      <td>True</td>\n",
       "    </tr>\n",
       "    <tr>\n",
       "      <th>3</th>\n",
       "      <td>4</td>\n",
       "      <td>2</td>\n",
       "      <td>3</td>\n",
       "      <td>4</td>\n",
       "      <td>b</td>\n",
       "      <td>False</td>\n",
       "      <td>True</td>\n",
       "      <td>True</td>\n",
       "    </tr>\n",
       "  </tbody>\n",
       "</table>\n",
       "</div>"
      ],
      "text/plain": [
       "   unique_id  col1  col2  col3 col4   col5    fid   sfid\n",
       "0          1     1     2     3    a   True  False  False\n",
       "1          2     1     2     3    a   True  False  False\n",
       "2          3     2     3     4    b  False   True   True\n",
       "3          4     2     3     4    b  False   True   True"
      ]
     },
     "execution_count": 10,
     "metadata": {},
     "output_type": "execute_result"
    }
   ],
   "source": [
    "match_condition = (df[\"col1\"] > 1) & (df[\"col2\"] > 2)\n",
    "\n",
    "df = df.assign(\n",
    "    sfid=match_condition.groupby(df[\"unique_id\"]).transform(\"all\")\n",
    ")\n",
    "df"
   ]
  },
  {
   "cell_type": "code",
   "execution_count": 11,
   "metadata": {},
   "outputs": [
    {
     "data": {
      "text/plain": [
       "0    False\n",
       "1    False\n",
       "2     True\n",
       "3     True\n",
       "dtype: bool"
      ]
     },
     "execution_count": 11,
     "metadata": {},
     "output_type": "execute_result"
    }
   ],
   "source": [
    "match_condition"
   ]
  },
  {
   "cell_type": "code",
   "execution_count": 12,
   "metadata": {},
   "outputs": [
    {
     "data": {
      "text/plain": [
       "'\\n\\napply column and row wise\\n\\nloc to change values in place\\n\\n\\n\\n\\n\\n'"
      ]
     },
     "execution_count": 12,
     "metadata": {},
     "output_type": "execute_result"
    }
   ],
   "source": [
    "\"\"\"\n",
    "\n",
    "apply column and row wise\n",
    "\n",
    "loc to change values in place\n",
    "\n",
    "\n",
    "\n",
    "\n",
    "\n",
    "\"\"\""
   ]
  },
  {
   "cell_type": "code",
   "execution_count": 75,
   "metadata": {},
   "outputs": [],
   "source": [
    "import pandas as pd\n",
    "import numpy as np\n",
    "from datetime import datetime, timedelta\n",
    "import sqlalchemy\n",
    "import os\n",
    "import time"
   ]
  },
  {
   "cell_type": "code",
   "execution_count": 76,
   "metadata": {},
   "outputs": [],
   "source": [
    "df = pd.DataFrame(\n",
    "    {\n",
    "        \"col1\": [1, 1, 2, 2],\n",
    "        \"col2\": [2, 2, 3, 3],\n",
    "        \"col3\": [3, 3, 4, 4],\n",
    "        \"col4\": [\"a\", \"a\", \"b\", \"b\"],\n",
    "        \"col5\": [True, True, False, False],\n",
    "        \"col6\": [\n",
    "            datetime(2000, 1, 1),\n",
    "            datetime(2000, 1, 1),\n",
    "            datetime(2000, 1, 1),\n",
    "            datetime(2000, 1, 1),\n",
    "        ],\n",
    "    }\n",
    ")\n"
   ]
  },
  {
   "cell_type": "code",
   "execution_count": 78,
   "metadata": {},
   "outputs": [
    {
     "data": {
      "text/html": [
       "<div>\n",
       "<style scoped>\n",
       "    .dataframe tbody tr th:only-of-type {\n",
       "        vertical-align: middle;\n",
       "    }\n",
       "\n",
       "    .dataframe tbody tr th {\n",
       "        vertical-align: top;\n",
       "    }\n",
       "\n",
       "    .dataframe thead th {\n",
       "        text-align: right;\n",
       "    }\n",
       "</style>\n",
       "<table border=\"1\" class=\"dataframe\">\n",
       "  <thead>\n",
       "    <tr style=\"text-align: right;\">\n",
       "      <th></th>\n",
       "      <th>col1</th>\n",
       "      <th>col2</th>\n",
       "      <th>col3</th>\n",
       "      <th>col4</th>\n",
       "      <th>col5</th>\n",
       "      <th>col6</th>\n",
       "      <th>col7</th>\n",
       "    </tr>\n",
       "  </thead>\n",
       "  <tbody>\n",
       "    <tr>\n",
       "      <th>0</th>\n",
       "      <td>1</td>\n",
       "      <td>2</td>\n",
       "      <td>3</td>\n",
       "      <td>a</td>\n",
       "      <td>True</td>\n",
       "      <td>2000-01-01</td>\n",
       "      <td>NaN</td>\n",
       "    </tr>\n",
       "    <tr>\n",
       "      <th>1</th>\n",
       "      <td>1</td>\n",
       "      <td>2</td>\n",
       "      <td>3</td>\n",
       "      <td>a</td>\n",
       "      <td>True</td>\n",
       "      <td>2000-01-01</td>\n",
       "      <td>NaN</td>\n",
       "    </tr>\n",
       "    <tr>\n",
       "      <th>2</th>\n",
       "      <td>2</td>\n",
       "      <td>999</td>\n",
       "      <td>4</td>\n",
       "      <td>b</td>\n",
       "      <td>False</td>\n",
       "      <td>2000-01-01</td>\n",
       "      <td>999.0</td>\n",
       "    </tr>\n",
       "    <tr>\n",
       "      <th>3</th>\n",
       "      <td>2</td>\n",
       "      <td>999</td>\n",
       "      <td>4</td>\n",
       "      <td>b</td>\n",
       "      <td>False</td>\n",
       "      <td>2000-01-01</td>\n",
       "      <td>999.0</td>\n",
       "    </tr>\n",
       "  </tbody>\n",
       "</table>\n",
       "</div>"
      ],
      "text/plain": [
       "   col1  col2  col3 col4   col5       col6   col7\n",
       "0     1     2     3    a   True 2000-01-01    NaN\n",
       "1     1     2     3    a   True 2000-01-01    NaN\n",
       "2     2   999     4    b  False 2000-01-01  999.0\n",
       "3     2   999     4    b  False 2000-01-01  999.0"
      ]
     },
     "execution_count": 78,
     "metadata": {},
     "output_type": "execute_result"
    }
   ],
   "source": [
    "df.loc[df['col1'] > 1, 'col7'] = 999\n",
    "df"
   ]
  },
  {
   "cell_type": "code",
   "execution_count": 52,
   "metadata": {},
   "outputs": [
    {
     "data": {
      "text/plain": [
       "0    4\n",
       "1    4\n",
       "2    6\n",
       "3    6\n",
       "Name: col2, dtype: int64"
      ]
     },
     "execution_count": 52,
     "metadata": {},
     "output_type": "execute_result"
    }
   ],
   "source": [
    "df.groupby('col1')['col2'].transform('sum')"
   ]
  },
  {
   "cell_type": "code",
   "execution_count": 53,
   "metadata": {},
   "outputs": [
    {
     "name": "stderr",
     "output_type": "stream",
     "text": [
      "/var/folders/yg/tm584mqn4k12grwdd216v8540000gn/T/ipykernel_92070/231175614.py:1: DeprecationWarning: DataFrameGroupBy.apply operated on the grouping columns. This behavior is deprecated, and in a future version of pandas the grouping columns will be excluded from the operation. Either pass `include_groups=False` to exclude the groupings or explicitly select the grouping columns after groupby to silence this warning.\n",
      "  df.groupby('col1').apply(lambda x: x.nlargest(1, 'col2'))\n"
     ]
    },
    {
     "data": {
      "text/html": [
       "<div>\n",
       "<style scoped>\n",
       "    .dataframe tbody tr th:only-of-type {\n",
       "        vertical-align: middle;\n",
       "    }\n",
       "\n",
       "    .dataframe tbody tr th {\n",
       "        vertical-align: top;\n",
       "    }\n",
       "\n",
       "    .dataframe thead th {\n",
       "        text-align: right;\n",
       "    }\n",
       "</style>\n",
       "<table border=\"1\" class=\"dataframe\">\n",
       "  <thead>\n",
       "    <tr style=\"text-align: right;\">\n",
       "      <th></th>\n",
       "      <th></th>\n",
       "      <th>col1</th>\n",
       "      <th>col2</th>\n",
       "      <th>col3</th>\n",
       "      <th>col4</th>\n",
       "      <th>col5</th>\n",
       "      <th>col6</th>\n",
       "    </tr>\n",
       "    <tr>\n",
       "      <th>col1</th>\n",
       "      <th></th>\n",
       "      <th></th>\n",
       "      <th></th>\n",
       "      <th></th>\n",
       "      <th></th>\n",
       "      <th></th>\n",
       "      <th></th>\n",
       "    </tr>\n",
       "  </thead>\n",
       "  <tbody>\n",
       "    <tr>\n",
       "      <th>1</th>\n",
       "      <th>0</th>\n",
       "      <td>1</td>\n",
       "      <td>2</td>\n",
       "      <td>3</td>\n",
       "      <td>a</td>\n",
       "      <td>True</td>\n",
       "      <td>2000-01-01</td>\n",
       "    </tr>\n",
       "    <tr>\n",
       "      <th>2</th>\n",
       "      <th>2</th>\n",
       "      <td>2</td>\n",
       "      <td>3</td>\n",
       "      <td>4</td>\n",
       "      <td>b</td>\n",
       "      <td>False</td>\n",
       "      <td>2000-01-01</td>\n",
       "    </tr>\n",
       "  </tbody>\n",
       "</table>\n",
       "</div>"
      ],
      "text/plain": [
       "        col1  col2  col3 col4   col5       col6\n",
       "col1                                           \n",
       "1    0     1     2     3    a   True 2000-01-01\n",
       "2    2     2     3     4    b  False 2000-01-01"
      ]
     },
     "execution_count": 53,
     "metadata": {},
     "output_type": "execute_result"
    }
   ],
   "source": [
    "df.groupby('col1').apply(lambda x: x.nlargest(1, 'col2'))"
   ]
  },
  {
   "cell_type": "code",
   "execution_count": 23,
   "metadata": {},
   "outputs": [
    {
     "name": "stderr",
     "output_type": "stream",
     "text": [
      "/var/folders/yg/tm584mqn4k12grwdd216v8540000gn/T/ipykernel_92070/1951636299.py:1: FutureWarning: Setting an item of incompatible dtype is deprecated and will raise in a future error of pandas. Value '[0 0 1 1]' has dtype incompatible with bool, please explicitly cast to a compatible dtype first.\n",
      "  df.loc[:, \"test_col\"] = np.select(\n"
     ]
    },
    {
     "data": {
      "text/html": [
       "<div>\n",
       "<style scoped>\n",
       "    .dataframe tbody tr th:only-of-type {\n",
       "        vertical-align: middle;\n",
       "    }\n",
       "\n",
       "    .dataframe tbody tr th {\n",
       "        vertical-align: top;\n",
       "    }\n",
       "\n",
       "    .dataframe thead th {\n",
       "        text-align: right;\n",
       "    }\n",
       "</style>\n",
       "<table border=\"1\" class=\"dataframe\">\n",
       "  <thead>\n",
       "    <tr style=\"text-align: right;\">\n",
       "      <th></th>\n",
       "      <th>col1</th>\n",
       "      <th>col2</th>\n",
       "      <th>col3</th>\n",
       "      <th>col4</th>\n",
       "      <th>col5</th>\n",
       "      <th>col6</th>\n",
       "      <th>test_col</th>\n",
       "    </tr>\n",
       "  </thead>\n",
       "  <tbody>\n",
       "    <tr>\n",
       "      <th>0</th>\n",
       "      <td>1</td>\n",
       "      <td>2</td>\n",
       "      <td>3</td>\n",
       "      <td>a</td>\n",
       "      <td>True</td>\n",
       "      <td>2000-01-01</td>\n",
       "      <td>0</td>\n",
       "    </tr>\n",
       "    <tr>\n",
       "      <th>1</th>\n",
       "      <td>1</td>\n",
       "      <td>2</td>\n",
       "      <td>3</td>\n",
       "      <td>a</td>\n",
       "      <td>True</td>\n",
       "      <td>2000-01-01</td>\n",
       "      <td>0</td>\n",
       "    </tr>\n",
       "    <tr>\n",
       "      <th>2</th>\n",
       "      <td>2</td>\n",
       "      <td>3</td>\n",
       "      <td>4</td>\n",
       "      <td>b</td>\n",
       "      <td>False</td>\n",
       "      <td>2000-01-01</td>\n",
       "      <td>1</td>\n",
       "    </tr>\n",
       "    <tr>\n",
       "      <th>3</th>\n",
       "      <td>2</td>\n",
       "      <td>3</td>\n",
       "      <td>4</td>\n",
       "      <td>b</td>\n",
       "      <td>False</td>\n",
       "      <td>2000-01-01</td>\n",
       "      <td>1</td>\n",
       "    </tr>\n",
       "  </tbody>\n",
       "</table>\n",
       "</div>"
      ],
      "text/plain": [
       "   col1  col2  col3 col4   col5       col6  test_col\n",
       "0     1     2     3    a   True 2000-01-01         0\n",
       "1     1     2     3    a   True 2000-01-01         0\n",
       "2     2     3     4    b  False 2000-01-01         1\n",
       "3     2     3     4    b  False 2000-01-01         1"
      ]
     },
     "execution_count": 23,
     "metadata": {},
     "output_type": "execute_result"
    }
   ],
   "source": [
    "df.loc[:, \"test_col\"] = np.select(\n",
    "    [\n",
    "        df[\"col1\"] >= 2,\n",
    "        df[\"col1\"] <= 1,\n",
    "    ],\n",
    "    [True, False],\n",
    ")\n",
    "df\n",
    "\n",
    "\n",
    "\n",
    "\n"
   ]
  },
  {
   "cell_type": "code",
   "execution_count": 23,
   "metadata": {},
   "outputs": [
    {
     "data": {
      "text/html": [
       "<div>\n",
       "<style scoped>\n",
       "    .dataframe tbody tr th:only-of-type {\n",
       "        vertical-align: middle;\n",
       "    }\n",
       "\n",
       "    .dataframe tbody tr th {\n",
       "        vertical-align: top;\n",
       "    }\n",
       "\n",
       "    .dataframe thead th {\n",
       "        text-align: right;\n",
       "    }\n",
       "</style>\n",
       "<table border=\"1\" class=\"dataframe\">\n",
       "  <thead>\n",
       "    <tr style=\"text-align: right;\">\n",
       "      <th></th>\n",
       "      <th>col1</th>\n",
       "      <th>col2</th>\n",
       "      <th>col3</th>\n",
       "      <th>col4</th>\n",
       "      <th>col5</th>\n",
       "      <th>col6</th>\n",
       "      <th>test_col</th>\n",
       "    </tr>\n",
       "  </thead>\n",
       "  <tbody>\n",
       "    <tr>\n",
       "      <th>0</th>\n",
       "      <td>1</td>\n",
       "      <td>2</td>\n",
       "      <td>3</td>\n",
       "      <td>a</td>\n",
       "      <td>True</td>\n",
       "      <td>2000-01-01</td>\n",
       "      <td>0</td>\n",
       "    </tr>\n",
       "    <tr>\n",
       "      <th>1</th>\n",
       "      <td>1</td>\n",
       "      <td>2</td>\n",
       "      <td>3</td>\n",
       "      <td>a</td>\n",
       "      <td>True</td>\n",
       "      <td>2000-01-01</td>\n",
       "      <td>0</td>\n",
       "    </tr>\n",
       "    <tr>\n",
       "      <th>2</th>\n",
       "      <td>2</td>\n",
       "      <td>3</td>\n",
       "      <td>4</td>\n",
       "      <td>b</td>\n",
       "      <td>False</td>\n",
       "      <td>2000-01-01</td>\n",
       "      <td>0</td>\n",
       "    </tr>\n",
       "    <tr>\n",
       "      <th>3</th>\n",
       "      <td>2</td>\n",
       "      <td>3</td>\n",
       "      <td>4</td>\n",
       "      <td>b</td>\n",
       "      <td>False</td>\n",
       "      <td>2000-01-01</td>\n",
       "      <td>0</td>\n",
       "    </tr>\n",
       "  </tbody>\n",
       "</table>\n",
       "</div>"
      ],
      "text/plain": [
       "   col1  col2  col3 col4   col5       col6  test_col\n",
       "0     1     2     3    a   True 2000-01-01         0\n",
       "1     1     2     3    a   True 2000-01-01         0\n",
       "2     2     3     4    b  False 2000-01-01         0\n",
       "3     2     3     4    b  False 2000-01-01         0"
      ]
     },
     "execution_count": 23,
     "metadata": {},
     "output_type": "execute_result"
    }
   ],
   "source": [
    "df"
   ]
  },
  {
   "cell_type": "code",
   "execution_count": 20,
   "metadata": {},
   "outputs": [],
   "source": [
    "df.loc[2, 'test_col'] = 1"
   ]
  },
  {
   "cell_type": "code",
   "execution_count": 37,
   "metadata": {},
   "outputs": [],
   "source": [
    "COUNT = 0"
   ]
  },
  {
   "cell_type": "code",
   "execution_count": 40,
   "metadata": {},
   "outputs": [],
   "source": [
    "def fake_apply(row):\n",
    "    print(datetime.now())\n",
    "    if row['col1'] >= 2:\n",
    "        return 'hi'\n",
    "    else:\n",
    "        return 'bye'"
   ]
  },
  {
   "cell_type": "code",
   "execution_count": 43,
   "metadata": {},
   "outputs": [
    {
     "name": "stdout",
     "output_type": "stream",
     "text": [
      "2025-06-21 15:06:22.951086\n",
      "2025-06-21 15:06:22.951163\n",
      "2025-06-21 15:06:22.951185\n",
      "2025-06-21 15:06:22.951204\n"
     ]
    }
   ],
   "source": [
    "df['test_apply'] = df.apply(fake_apply, axis=1)\n",
    "    "
   ]
  },
  {
   "cell_type": "code",
   "execution_count": 31,
   "metadata": {},
   "outputs": [
    {
     "data": {
      "text/html": [
       "<div>\n",
       "<style scoped>\n",
       "    .dataframe tbody tr th:only-of-type {\n",
       "        vertical-align: middle;\n",
       "    }\n",
       "\n",
       "    .dataframe tbody tr th {\n",
       "        vertical-align: top;\n",
       "    }\n",
       "\n",
       "    .dataframe thead th {\n",
       "        text-align: right;\n",
       "    }\n",
       "</style>\n",
       "<table border=\"1\" class=\"dataframe\">\n",
       "  <thead>\n",
       "    <tr style=\"text-align: right;\">\n",
       "      <th></th>\n",
       "      <th>col1</th>\n",
       "      <th>col2</th>\n",
       "      <th>col3</th>\n",
       "      <th>col4</th>\n",
       "      <th>col5</th>\n",
       "      <th>col6</th>\n",
       "      <th>test_col</th>\n",
       "      <th>test_apply</th>\n",
       "    </tr>\n",
       "  </thead>\n",
       "  <tbody>\n",
       "    <tr>\n",
       "      <th>0</th>\n",
       "      <td>1</td>\n",
       "      <td>2</td>\n",
       "      <td>3</td>\n",
       "      <td>a</td>\n",
       "      <td>True</td>\n",
       "      <td>2000-01-01</td>\n",
       "      <td>0</td>\n",
       "      <td>bye</td>\n",
       "    </tr>\n",
       "    <tr>\n",
       "      <th>1</th>\n",
       "      <td>1</td>\n",
       "      <td>2</td>\n",
       "      <td>3</td>\n",
       "      <td>a</td>\n",
       "      <td>True</td>\n",
       "      <td>2000-01-01</td>\n",
       "      <td>0</td>\n",
       "      <td>bye</td>\n",
       "    </tr>\n",
       "    <tr>\n",
       "      <th>2</th>\n",
       "      <td>2</td>\n",
       "      <td>3</td>\n",
       "      <td>4</td>\n",
       "      <td>b</td>\n",
       "      <td>False</td>\n",
       "      <td>2000-01-01</td>\n",
       "      <td>1</td>\n",
       "      <td>bye</td>\n",
       "    </tr>\n",
       "    <tr>\n",
       "      <th>3</th>\n",
       "      <td>2</td>\n",
       "      <td>3</td>\n",
       "      <td>4</td>\n",
       "      <td>b</td>\n",
       "      <td>False</td>\n",
       "      <td>2000-01-01</td>\n",
       "      <td>1</td>\n",
       "      <td>bye</td>\n",
       "    </tr>\n",
       "  </tbody>\n",
       "</table>\n",
       "</div>"
      ],
      "text/plain": [
       "   col1  col2  col3 col4   col5       col6  test_col test_apply\n",
       "0     1     2     3    a   True 2000-01-01         0        bye\n",
       "1     1     2     3    a   True 2000-01-01         0        bye\n",
       "2     2     3     4    b  False 2000-01-01         1        bye\n",
       "3     2     3     4    b  False 2000-01-01         1        bye"
      ]
     },
     "execution_count": 31,
     "metadata": {},
     "output_type": "execute_result"
    }
   ],
   "source": [
    "df"
   ]
  },
  {
   "cell_type": "code",
   "execution_count": 44,
   "metadata": {},
   "outputs": [
    {
     "name": "stdout",
     "output_type": "stream",
     "text": [
      "Got series: A, values: [1, 2, 3]\n",
      "Got series: B, values: [4, 5, 6]\n",
      "Got series: C, values: [7, 8, 9]\n",
      "Got row 0, values: [1, 4, 7]\n",
      "Got row 1, values: [2, 5, 8]\n",
      "Got row 2, values: [3, 6, 9]\n"
     ]
    }
   ],
   "source": [
    "df = pd.DataFrame({\n",
    "    'A': [1, 2, 3],\n",
    "    'B': [4, 5, 6],\n",
    "    'C': [7, 8, 9]\n",
    "})\n",
    "\n",
    "# COLUMN APPLY (axis=0) - function gets each column as Series\n",
    "def col_func(series):\n",
    "    print(f\"Got series: {series.name}, values: {list(series)}\")\n",
    "    return series.sum()\n",
    "\n",
    "result_col = df.apply(col_func, axis=0)\n",
    "# Output:\n",
    "# Got series: A, values: [1, 2, 3]\n",
    "# Got series: B, values: [4, 5, 6] \n",
    "# Got series: C, values: [7, 8, 9]\n",
    "# Result: A=6, B=15, C=24\n",
    "\n",
    "# ROW APPLY (axis=1) - function gets each row as Series\n",
    "def row_func(series):\n",
    "    print(f\"Got row {series.name}, values: {list(series)}\")\n",
    "    return series.sum()\n",
    "\n",
    "result_row = df.apply(row_func, axis=1)\n",
    "# Output:\n",
    "# Got row 0, values: [1, 4, 7]\n",
    "# Got row 1, values: [2, 5, 8]\n",
    "# Got row 2, values: [3, 6, 9]\n",
    "# Result: [12, 15, 18]"
   ]
  },
  {
   "cell_type": "code",
   "execution_count": 45,
   "metadata": {},
   "outputs": [
    {
     "data": {
      "text/plain": [
       "A     6\n",
       "B    15\n",
       "C    24\n",
       "dtype: int64"
      ]
     },
     "execution_count": 45,
     "metadata": {},
     "output_type": "execute_result"
    }
   ],
   "source": [
    "result_col"
   ]
  },
  {
   "cell_type": "code",
   "execution_count": 46,
   "metadata": {},
   "outputs": [
    {
     "data": {
      "text/plain": [
       "0    12\n",
       "1    15\n",
       "2    18\n",
       "dtype: int64"
      ]
     },
     "execution_count": 46,
     "metadata": {},
     "output_type": "execute_result"
    }
   ],
   "source": [
    "result_row\n"
   ]
  },
  {
   "cell_type": "code",
   "execution_count": 47,
   "metadata": {},
   "outputs": [
    {
     "data": {
      "text/html": [
       "<div>\n",
       "<style scoped>\n",
       "    .dataframe tbody tr th:only-of-type {\n",
       "        vertical-align: middle;\n",
       "    }\n",
       "\n",
       "    .dataframe tbody tr th {\n",
       "        vertical-align: top;\n",
       "    }\n",
       "\n",
       "    .dataframe thead th {\n",
       "        text-align: right;\n",
       "    }\n",
       "</style>\n",
       "<table border=\"1\" class=\"dataframe\">\n",
       "  <thead>\n",
       "    <tr style=\"text-align: right;\">\n",
       "      <th></th>\n",
       "      <th>A</th>\n",
       "      <th>B</th>\n",
       "      <th>C</th>\n",
       "    </tr>\n",
       "  </thead>\n",
       "  <tbody>\n",
       "    <tr>\n",
       "      <th>0</th>\n",
       "      <td>1</td>\n",
       "      <td>4</td>\n",
       "      <td>7</td>\n",
       "    </tr>\n",
       "    <tr>\n",
       "      <th>1</th>\n",
       "      <td>2</td>\n",
       "      <td>5</td>\n",
       "      <td>8</td>\n",
       "    </tr>\n",
       "    <tr>\n",
       "      <th>2</th>\n",
       "      <td>3</td>\n",
       "      <td>6</td>\n",
       "      <td>9</td>\n",
       "    </tr>\n",
       "  </tbody>\n",
       "</table>\n",
       "</div>"
      ],
      "text/plain": [
       "   A  B  C\n",
       "0  1  4  7\n",
       "1  2  5  8\n",
       "2  3  6  9"
      ]
     },
     "execution_count": 47,
     "metadata": {},
     "output_type": "execute_result"
    }
   ],
   "source": [
    "df"
   ]
  },
  {
   "cell_type": "code",
   "execution_count": 64,
   "metadata": {},
   "outputs": [
    {
     "ename": "NameError",
     "evalue": "name 'SomeParent' is not defined",
     "output_type": "error",
     "traceback": [
      "\u001b[31m---------------------------------------------------------------------------\u001b[39m",
      "\u001b[31mNameError\u001b[39m                                 Traceback (most recent call last)",
      "\u001b[36mCell\u001b[39m\u001b[36m \u001b[39m\u001b[32mIn[64]\u001b[39m\u001b[32m, line 26\u001b[39m\n\u001b[32m     23\u001b[39m         \u001b[38;5;28;01mreturn\u001b[39;00m \u001b[38;5;28msuper\u001b[39m().\u001b[34m__new__\u001b[39m(mcs, name, bases, dct)\n\u001b[32m     25\u001b[39m \u001b[38;5;66;03m# Usage\u001b[39;00m\n\u001b[32m---> \u001b[39m\u001b[32m26\u001b[39m \u001b[38;5;28;01mclass\u001b[39;00m\u001b[38;5;250m \u001b[39m\u001b[34;01mMyModel\u001b[39;00m(\u001b[43mSomeParent\u001b[49m, metaclass=TimestampedMeta):\n\u001b[32m     27\u001b[39m     \u001b[38;5;28;01mdef\u001b[39;00m\u001b[38;5;250m \u001b[39m\u001b[34mget_data\u001b[39m(\u001b[38;5;28mself\u001b[39m):  \u001b[38;5;66;03m# Valid snake_case\u001b[39;00m\n\u001b[32m     28\u001b[39m         \u001b[38;5;28;01mreturn\u001b[39;00m \u001b[33m\"\u001b[39m\u001b[33mdata\u001b[39m\u001b[33m\"\u001b[39m\n",
      "\u001b[31mNameError\u001b[39m: name 'SomeParent' is not defined"
     ]
    }
   ],
   "source": [
    "import time\n",
    "import re\n",
    "\n",
    "class TimestampedMeta(type):\n",
    "    def __new__(mcs, name, bases, dct):\n",
    "        print(mcs)\n",
    "        print(name)\n",
    "        print(bases)\n",
    "        print(dct)\n",
    "        # Check method names for snake_case\n",
    "        for key, value in dct.items():\n",
    "            if callable(value) and not key.startswith('_'):\n",
    "                if not re.match(r'^[a-z][a-z0-9_]*$', key):\n",
    "                    raise ValueError(f\"Method '{key}' must be snake_case\")\n",
    "        \n",
    "        # Add created_at timestamp\n",
    "        dct['created_at'] = time.time()\n",
    "\n",
    "        print('---------------------check-------------------------------')\n",
    "\n",
    "        print(dct)\n",
    "        \n",
    "        return super().__new__(mcs, name, bases, dct)\n",
    "\n",
    "# Usage\n",
    "class MyModel(SomeParent, metaclass=TimestampedMeta):\n",
    "    def get_data(self):  # Valid snake_case\n",
    "        return \"data\"\n",
    "    \n",
    "    # def getData(self):  # Would raise ValueError\n",
    "    #     return \"data\"\n",
    "\n",
    "print(MyModel.created_at)  # timestamp when class was created"
   ]
  },
  {
   "cell_type": "code",
   "execution_count": null,
   "metadata": {},
   "outputs": [],
   "source": [
    "class DatabaseManager:\n",
    "    def __enter__(self):\n",
    "        self.conn = get_connection()\n",
    "        self.conn.begin_transaction()\n",
    "        return self.conn  # This gets assigned to 'as' variable\n",
    "    \n",
    "    def __exit__(self, exc_type, exc_value, traceback):\n",
    "        if exc_type is None:  # No exception\n",
    "            self.conn.commit()\n",
    "        else:  # Exception occurred\n",
    "            self.conn.rollback()\n",
    "        self.conn.close()\n",
    "        return False  # Don't suppress exceptions\n",
    "\n",
    "# Usage\n",
    "with DatabaseManager() as conn:\n",
    "    conn.execute(\"INSERT ...\")\n",
    "    # If this raises exception, rollback happens\n",
    "    # If no exception, commit happens\n",
    "    # Connection always closes"
   ]
  },
  {
   "cell_type": "code",
   "execution_count": 60,
   "metadata": {},
   "outputs": [
    {
     "data": {
      "text/plain": [
       "<contextlib._GeneratorContextManager at 0x16c126e90>"
      ]
     },
     "execution_count": 60,
     "metadata": {},
     "output_type": "execute_result"
    }
   ],
   "source": [
    "my_context()"
   ]
  },
  {
   "cell_type": "code",
   "execution_count": 57,
   "metadata": {},
   "outputs": [],
   "source": [
    "t = MyModel"
   ]
  },
  {
   "cell_type": "code",
   "execution_count": 58,
   "metadata": {},
   "outputs": [
    {
     "data": {
      "text/plain": [
       "1750515973.060721"
      ]
     },
     "execution_count": 58,
     "metadata": {},
     "output_type": "execute_result"
    }
   ],
   "source": [
    "t.created_at"
   ]
  },
  {
   "cell_type": "code",
   "execution_count": 74,
   "metadata": {},
   "outputs": [
    {
     "data": {
      "text/plain": [
       "[1,\n",
       " <generator object flatten_with_yield at 0x16c0bcf20>,\n",
       " 5,\n",
       " <generator object flatten_with_yield at 0x16c0bf3e0>]"
      ]
     },
     "execution_count": 74,
     "metadata": {},
     "output_type": "execute_result"
    }
   ],
   "source": [
    "# Regular yield - yields individual items\n",
    "def simple_gen():\n",
    "    yield 1\n",
    "    yield 2\n",
    "    yield 3\n",
    "\n",
    "# yield from - delegates to another iterable\n",
    "def delegating_gen():\n",
    "    yield from [1, 2, 3]  # Equivalent to the above\n",
    "\n",
    "# The power shows in nested structures:\n",
    "def flatten_with_yield(items):\n",
    "    for item in items:\n",
    "        if isinstance(item, list):\n",
    "            # This is WRONG - yields the generator object!\n",
    "            yield flatten_with_yield(item)  # Oops!\n",
    "        else:\n",
    "            yield item\n",
    "\n",
    "def flatten_with_yield_from(items):\n",
    "    for item in items:\n",
    "        if isinstance(item, list):\n",
    "            yield from flatten_with_yield_from(item)  # Correct!\n",
    "        else:\n",
    "            yield item\n",
    "\n",
    "# Test data\n",
    "nested = [1, [2, [3, 4]], 5, [6]]\n",
    "\n",
    "# Wrong way yields generator objects\n",
    "list(flatten_with_yield(nested))  # [1, <generator>, 5, <generator>]\n",
    "\n",
    "# Right way flattens properly  \n",
    "# list(flatten_with_yield_from(nested))  # [1, 2, 3, 4, 5, 6]"
   ]
  },
  {
   "cell_type": "code",
   "execution_count": null,
   "metadata": {},
   "outputs": [
    {
     "name": "stdout",
     "output_type": "stream",
     "text": [
      "(<cell at 0x16c612110: float object at 0x16c59d410>, <cell at 0x16c613d30: function object at 0x16c380cc0>, <cell at 0x16c6137c0: int object at 0x102f1b758>)\n",
      "('delay', 'func', 'max_attempts')\n",
      "delay: 2.0\n",
      "func: <function test_func at 0x16c380cc0>\n",
      "max_attempts: 5\n"
     ]
    }
   ],
   "source": [
    "def retry(max_attempts=3, delay=1.0):\n",
    "    def decorator(func):\n",
    "        def wrapper(*args, **kwargs):\n",
    "            # Uses max_attempts, delay, func from outer scopes\n",
    "            for attempt in range(max_attempts):\n",
    "                try:\n",
    "                    return func(*args, **kwargs)\n",
    "                except Exception:\n",
    "                    time.sleep(delay)\n",
    "        return wrapper\n",
    "    return decorator\n",
    "\n",
    "@retry(max_attempts=5, delay=2.0)\n",
    "def test_func():\n",
    "    return \"hello\"\n",
    "\n",
    "# Let's inspect the closure:\n",
    "print(test_func.__closure__)  \n",
    "# (<cell at 0x...>, <cell at 0x...>, <cell at 0x...>)\n",
    "\n",
    "print(test_func.__code__.co_freevars)  \n",
    "# ('delay', 'func', 'max_attempts')\n",
    "\n",
    "# Access the actual values:\n",
    "for i, var_name in enumerate(test_func.__code__.co_freevars):\n",
    "    print(f\"{var_name}: {test_func.__closure__[i].cell_contents}\")\n",
    "\n",
    "# Output:\n",
    "# delay: 2.0\n",
    "# func: <function test_func at 0x...>\n",
    "# max_attempts: 5"
   ]
  },
  {
   "cell_type": "code",
   "execution_count": 67,
   "metadata": {},
   "outputs": [],
   "source": [
    "x = [1,2,3]"
   ]
  },
  {
   "cell_type": "code",
   "execution_count": 68,
   "metadata": {},
   "outputs": [],
   "source": [
    "y = x"
   ]
  },
  {
   "cell_type": "code",
   "execution_count": 69,
   "metadata": {},
   "outputs": [
    {
     "data": {
      "text/plain": [
       "[1, 2, 3]"
      ]
     },
     "execution_count": 69,
     "metadata": {},
     "output_type": "execute_result"
    }
   ],
   "source": [
    "y"
   ]
  },
  {
   "cell_type": "code",
   "execution_count": 70,
   "metadata": {},
   "outputs": [],
   "source": [
    "y[0] = 999"
   ]
  },
  {
   "cell_type": "code",
   "execution_count": 71,
   "metadata": {},
   "outputs": [
    {
     "data": {
      "text/plain": [
       "[999, 2, 3]"
      ]
     },
     "execution_count": 71,
     "metadata": {},
     "output_type": "execute_result"
    }
   ],
   "source": [
    "x"
   ]
  },
  {
   "cell_type": "code",
   "execution_count": 88,
   "metadata": {},
   "outputs": [
    {
     "name": "stdout",
     "output_type": "stream",
     "text": [
      "Person(name='Alice', age<class 'int'>=35)\n",
      "Person(name='Bob', age<class 'int'>=25)\n"
     ]
    }
   ],
   "source": [
    "class Person:\n",
    "    def __init__(self, name, age):\n",
    "        self.name = name\n",
    "        self.age = age\n",
    "    \n",
    "    @classmethod\n",
    "    def from_birth_year(cls, name, birth_year):\n",
    "        \"\"\"Create Person from birth year instead of age\"\"\"\n",
    "        from datetime import datetime\n",
    "        age = datetime.now().year - birth_year\n",
    "        return cls(name, age)\n",
    "    \n",
    "    @classmethod\n",
    "    def from_string(cls, person_string):\n",
    "        \"\"\"Create Person from 'Name,Age' format\"\"\"\n",
    "        name, age_str = person_string.split(',')\n",
    "        return cls(name.strip(), int(age_str.strip()))\n",
    "    \n",
    "    def __repr__(self):\n",
    "        return f\"Person(name='{self.name}', age{type(self.age)}={self.age})\"\n",
    "\n",
    "# Usage\n",
    "p1 = Person.from_birth_year(\"Alice\", 1990)\n",
    "p2 = Person.from_string(\"Bob, 25\")\n",
    "print(str(p1))  # Person(name='Alice', age=34)\n",
    "print(p2)  # Person(name='Bob', age=25)"
   ]
  },
  {
   "cell_type": "code",
   "execution_count": 84,
   "metadata": {},
   "outputs": [
    {
     "data": {
      "text/plain": [
       "Person(name='Bob', age=25)"
      ]
     },
     "execution_count": 84,
     "metadata": {},
     "output_type": "execute_result"
    }
   ],
   "source": [
    "p2"
   ]
  },
  {
   "cell_type": "code",
   "execution_count": 2,
   "metadata": {},
   "outputs": [
    {
     "data": {
      "text/html": [
       "<div>\n",
       "<style scoped>\n",
       "    .dataframe tbody tr th:only-of-type {\n",
       "        vertical-align: middle;\n",
       "    }\n",
       "\n",
       "    .dataframe tbody tr th {\n",
       "        vertical-align: top;\n",
       "    }\n",
       "\n",
       "    .dataframe thead th {\n",
       "        text-align: right;\n",
       "    }\n",
       "</style>\n",
       "<table border=\"1\" class=\"dataframe\">\n",
       "  <thead>\n",
       "    <tr style=\"text-align: right;\">\n",
       "      <th></th>\n",
       "      <th>Principal Remaining</th>\n",
       "      <th>Current Principal Payment</th>\n",
       "      <th>Current Interest Payment</th>\n",
       "      <th>Total Interest Paid</th>\n",
       "    </tr>\n",
       "  </thead>\n",
       "  <tbody>\n",
       "    <tr>\n",
       "      <th>0</th>\n",
       "      <td>18000.00</td>\n",
       "      <td>0.00</td>\n",
       "      <td>0.00</td>\n",
       "      <td>0.00</td>\n",
       "    </tr>\n",
       "    <tr>\n",
       "      <th>1</th>\n",
       "      <td>17737.27</td>\n",
       "      <td>262.73</td>\n",
       "      <td>79.35</td>\n",
       "      <td>79.35</td>\n",
       "    </tr>\n",
       "    <tr>\n",
       "      <th>2</th>\n",
       "      <td>17473.38</td>\n",
       "      <td>263.89</td>\n",
       "      <td>78.19</td>\n",
       "      <td>157.54</td>\n",
       "    </tr>\n",
       "    <tr>\n",
       "      <th>3</th>\n",
       "      <td>17208.33</td>\n",
       "      <td>265.05</td>\n",
       "      <td>77.03</td>\n",
       "      <td>234.57</td>\n",
       "    </tr>\n",
       "    <tr>\n",
       "      <th>4</th>\n",
       "      <td>16942.11</td>\n",
       "      <td>266.22</td>\n",
       "      <td>75.86</td>\n",
       "      <td>310.43</td>\n",
       "    </tr>\n",
       "    <tr>\n",
       "      <th>...</th>\n",
       "      <td>...</td>\n",
       "      <td>...</td>\n",
       "      <td>...</td>\n",
       "      <td>...</td>\n",
       "    </tr>\n",
       "    <tr>\n",
       "      <th>56</th>\n",
       "      <td>1353.36</td>\n",
       "      <td>334.64</td>\n",
       "      <td>7.44</td>\n",
       "      <td>2509.79</td>\n",
       "    </tr>\n",
       "    <tr>\n",
       "      <th>57</th>\n",
       "      <td>1017.25</td>\n",
       "      <td>336.11</td>\n",
       "      <td>5.97</td>\n",
       "      <td>2515.76</td>\n",
       "    </tr>\n",
       "    <tr>\n",
       "      <th>58</th>\n",
       "      <td>679.66</td>\n",
       "      <td>337.59</td>\n",
       "      <td>4.48</td>\n",
       "      <td>2520.24</td>\n",
       "    </tr>\n",
       "    <tr>\n",
       "      <th>59</th>\n",
       "      <td>340.58</td>\n",
       "      <td>339.08</td>\n",
       "      <td>3.00</td>\n",
       "      <td>2523.24</td>\n",
       "    </tr>\n",
       "    <tr>\n",
       "      <th>60</th>\n",
       "      <td>0.00</td>\n",
       "      <td>340.58</td>\n",
       "      <td>1.50</td>\n",
       "      <td>2524.74</td>\n",
       "    </tr>\n",
       "  </tbody>\n",
       "</table>\n",
       "<p>61 rows × 4 columns</p>\n",
       "</div>"
      ],
      "text/plain": [
       "    Principal Remaining  Current Principal Payment  Current Interest Payment  \\\n",
       "0              18000.00                       0.00                      0.00   \n",
       "1              17737.27                     262.73                     79.35   \n",
       "2              17473.38                     263.89                     78.19   \n",
       "3              17208.33                     265.05                     77.03   \n",
       "4              16942.11                     266.22                     75.86   \n",
       "..                  ...                        ...                       ...   \n",
       "56              1353.36                     334.64                      7.44   \n",
       "57              1017.25                     336.11                      5.97   \n",
       "58               679.66                     337.59                      4.48   \n",
       "59               340.58                     339.08                      3.00   \n",
       "60                 0.00                     340.58                      1.50   \n",
       "\n",
       "    Total Interest Paid  \n",
       "0                  0.00  \n",
       "1                 79.35  \n",
       "2                157.54  \n",
       "3                234.57  \n",
       "4                310.43  \n",
       "..                  ...  \n",
       "56              2509.79  \n",
       "57              2515.76  \n",
       "58              2520.24  \n",
       "59              2523.24  \n",
       "60              2524.74  \n",
       "\n",
       "[61 rows x 4 columns]"
      ]
     },
     "execution_count": 2,
     "metadata": {},
     "output_type": "execute_result"
    }
   ],
   "source": [
    "\n",
    "import pandas as pd\n",
    "\n",
    "# Initialize the paramaters of the loan\n",
    "loan_amount = 18000\n",
    "apr = 5.29\n",
    "loan_term = 60\n",
    "\n",
    "# Get a monthly percentage rate\n",
    "apr /= 100\n",
    "mpr = apr / 12\n",
    "\n",
    "# Calculate the Monthly Payment for a loan\n",
    "monthly_payment = (loan_amount * mpr)/(1-(1+mpr) ** -loan_term)\n",
    "\n",
    "def make_payment(principal, mpr, monthly_payment):\n",
    "    '''Makes a 'payment' by subtracting and updated payment amount from the \n",
    "    principal. Returns the principal remaining, and the amount of principal and interest paid\n",
    "    '''\n",
    "\n",
    "    current_interest_payment = principal * mpr\n",
    "    current_principal_payment = monthly_payment - current_interest_payment\n",
    "    \n",
    "    principal -= current_principal_payment\n",
    "    \n",
    "    return [round(principal, 2), round(current_principal_payment, 2), round(current_interest_payment, 2)] \n",
    "\n",
    "def main(principal, term_remaining, monthly_payment, mpr):\n",
    "    '''Returns an Amortization Table in the form of a DataFrame\n",
    "    '''\n",
    "    \n",
    "    payments = [[principal, 0, 0, 0]]\n",
    "    total_interest = 0\n",
    "    \n",
    "    while principal > 0 and term_remaining > 0:\n",
    "        payment = make_payment(principal, mpr, monthly_payment)\n",
    "        principal = payment[0]\n",
    "        term_remaining -= 1\n",
    "        total_interest += payment[2]\n",
    "        payment.append(total_interest)\n",
    "        payments.append(payment)\n",
    "\n",
    "    amortization_table = pd.DataFrame(data=payments,\n",
    "                                      columns=['Principal Remaining',\n",
    "                                              'Current Principal Payment',\n",
    "                                              'Current Interest Payment',\n",
    "                                              'Total Interest Paid'])\n",
    "    return amortization_table\n",
    "\n",
    "\n",
    "main(loan_amount, loan_term, monthly_payment, mpr)\n"
   ]
  },
  {
   "cell_type": "code",
   "execution_count": null,
   "metadata": {},
   "outputs": [],
   "source": []
  }
 ],
 "metadata": {
  "kernelspec": {
   "display_name": ".venv",
   "language": "python",
   "name": "python3"
  },
  "language_info": {
   "codemirror_mode": {
    "name": "ipython",
    "version": 3
   },
   "file_extension": ".py",
   "mimetype": "text/x-python",
   "name": "python",
   "nbconvert_exporter": "python",
   "pygments_lexer": "ipython3",
   "version": "3.11.12"
  }
 },
 "nbformat": 4,
 "nbformat_minor": 2
}
