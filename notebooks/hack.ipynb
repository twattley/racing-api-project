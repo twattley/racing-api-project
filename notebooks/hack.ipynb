{
 "cells": [
  {
   "cell_type": "code",
   "execution_count": null,
   "metadata": {},
   "outputs": [
    {
     "name": "stderr",
     "output_type": "stream",
     "text": [
      "2025-08-29T17:53:59Z | INFO - Logging configuration initialized with level: INFO\n"
     ]
    }
   ],
   "source": [
    "import pandas as pd\n",
    "from dotenv import load_dotenv\n",
    "\n",
    "from pydantic import BaseModel\n",
    "from langchain_google_genai import ChatGoogleGenerativeAI\n",
    "\n",
    "load_dotenv(\n",
    "    dotenv_path=\"/Users/tomwattley/App/racing-api-project/racing-api-project/libraries/api-helpers/src/api_helpers/.env\"\n",
    ")\n",
    "\n",
    "from api_helpers.clients import get_local_postgres_client, get_remote_postgres_client\n",
    "\n",
    "local_pg_client = get_local_postgres_client()\n",
    "remote_pg_client = get_remote_postgres_client()\n",
    "\n",
    "local_pg_client.store_data(\n",
    "    data=remote_pg_client.fetch_data(\n",
    "        \"\"\"\n",
    "                SELECT \n",
    "                    todays_betfair_selection_id as selection_id,\n",
    "                    betfair_win_sp,\n",
    "                    betfair_place_sp,\n",
    "                    status,\n",
    "                    created_at\n",
    "                FROM live_betting.updated_price_data\n",
    "                WHERE race_time::date = current_date\n",
    "                    AND race_time > current_timestamp\n",
    "        \"\"\"\n",
    "    ),\n",
    "    schema=\"live_betting\",\n",
    "    table=\"updated_price_data\",\n",
    "    truncate=True,\n",
    ")"
   ]
  },
  {
   "cell_type": "code",
   "execution_count": null,
   "metadata": {},
   "outputs": [],
   "source": [
    "df = "
   ]
  },
  {
   "cell_type": "code",
   "execution_count": null,
   "metadata": {},
   "outputs": [
    {
     "name": "stderr",
     "output_type": "stream",
     "text": [
      "2025-08-29T17:57:38Z | INFO - Truncating live_betting.updated_price_data\n",
      "2025-08-29T17:57:38Z | INFO - Executing query: TRUNCATE TABLE live_betting.updated_price_data\n",
      "2025-08-29T17:57:38Z | INFO - Query executed. Number of rows affected: -1\n",
      "2025-08-29T17:57:38Z | INFO - Storing 128 records in live_betting.updated_price_data\n"
     ]
    }
   ],
   "source": []
  },
  {
   "cell_type": "code",
   "execution_count": null,
   "metadata": {},
   "outputs": [],
   "source": []
  }
 ],
 "metadata": {
  "kernelspec": {
   "display_name": "racing-api-project",
   "language": "python",
   "name": "python3"
  },
  "language_info": {
   "codemirror_mode": {
    "name": "ipython",
    "version": 3
   },
   "file_extension": ".py",
   "mimetype": "text/x-python",
   "name": "python",
   "nbconvert_exporter": "python",
   "pygments_lexer": "ipython3",
   "version": "3.11.12"
  }
 },
 "nbformat": 4,
 "nbformat_minor": 2
}
