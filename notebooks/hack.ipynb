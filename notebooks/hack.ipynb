{
 "cells": [
  {
   "cell_type": "code",
   "execution_count": 2,
   "metadata": {},
   "outputs": [
    {
     "data": {
      "text/plain": [
       "True"
      ]
     },
     "execution_count": 2,
     "metadata": {},
     "output_type": "execute_result"
    }
   ],
   "source": [
    "import pandas as pd\n",
    "from dotenv import load_dotenv\n",
    "\n",
    "from pydantic import BaseModel\n",
    "from langchain_google_genai import ChatGoogleGenerativeAI\n",
    "\n",
    "load_dotenv(\n",
    "    dotenv_path=\"/Users/tomwattley/App/racing-api-project/racing-api-project/libraries/api-helpers/src/api_helpers/.env\"\n",
    ")\n"
   ]
  },
  {
   "cell_type": "code",
   "execution_count": 3,
   "metadata": {},
   "outputs": [
    {
     "name": "stdout",
     "output_type": "stream",
     "text": [
      "Bootstrap mean CI 95%: [68.22222222 80.88888889]\n"
     ]
    }
   ],
   "source": [
    "import numpy as np\n",
    "\n",
    "def bootstrap_stat(x, n_boot=10000, stat=\"mean\", seed=42, ci=(2.5, 97.5)):\n",
    "    x = np.asarray(x, dtype=float)\n",
    "    x = x[~np.isnan(x)]  # drop NaNs\n",
    "    rng = np.random.default_rng(seed)\n",
    "    n = x.size\n",
    "    idx = rng.integers(0, n, size=(n_boot, n))  # bootstrap indices\n",
    "\n",
    "    samples = x[idx]\n",
    "    if stat == \"mean\":\n",
    "        stats = samples.mean(axis=1)\n",
    "    elif stat == \"median\":\n",
    "        stats = np.median(samples, axis=1)\n",
    "    else:\n",
    "        # custom callable: stat(samples, axis=1)\n",
    "        stats = stat(samples, axis=1)\n",
    "\n",
    "    ci_vals = np.percentile(stats, ci) if ci else None\n",
    "    return stats, ci_vals\n",
    "\n",
    "# Example\n",
    "data = [80.0, 89.0, 80.0, 63.0, 81.0, 64.0, np.nan, 60.0, 83.0, 72.0]\n",
    "stats, ci = bootstrap_stat(data, n_boot=100000, stat=\"mean\")\n",
    "print(f\"Bootstrap mean CI 95%: {ci}\")"
   ]
  },
  {
   "cell_type": "code",
   "execution_count": null,
   "metadata": {},
   "outputs": [],
   "source": []
  }
 ],
 "metadata": {
  "kernelspec": {
   "display_name": "racing-api-project",
   "language": "python",
   "name": "python3"
  },
  "language_info": {
   "codemirror_mode": {
    "name": "ipython",
    "version": 3
   },
   "file_extension": ".py",
   "mimetype": "text/x-python",
   "name": "python",
   "nbconvert_exporter": "python",
   "pygments_lexer": "ipython3",
   "version": "3.11.12"
  }
 },
 "nbformat": 4,
 "nbformat_minor": 2
}
