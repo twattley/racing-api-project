{
 "cells": [
  {
   "cell_type": "code",
   "execution_count": 1,
   "metadata": {},
   "outputs": [
    {
     "data": {
      "text/plain": [
       "True"
      ]
     },
     "execution_count": 1,
     "metadata": {},
     "output_type": "execute_result"
    }
   ],
   "source": [
    "import pandas as pd\n",
    "from dotenv import load_dotenv\n",
    "\n",
    "from pydantic import BaseModel\n",
    "from langchain_google_genai import ChatGoogleGenerativeAI\n",
    "\n",
    "load_dotenv(\n",
    "    dotenv_path=\"/Users/tomwattley/App/racing-api-project/racing-api-project/libraries/api-helpers/src/api_helpers/.env\"\n",
    ")\n"
   ]
  },
  {
   "cell_type": "code",
   "execution_count": 3,
   "metadata": {},
   "outputs": [],
   "source": [
    "df = pd.read_csv('~/Desktop/test.csv')"
   ]
  },
  {
   "cell_type": "code",
   "execution_count": 4,
   "metadata": {},
   "outputs": [
    {
     "name": "stdout",
     "output_type": "stream",
     "text": [
      "<class 'pandas.core.frame.DataFrame'>\n",
      "RangeIndex: 1 entries, 0 to 0\n",
      "Data columns (total 27 columns):\n",
      " #   Column                 Non-Null Count  Dtype  \n",
      "---  ------                 --------------  -----  \n",
      " 0   unique_id              1 non-null      object \n",
      " 1   race_id                1 non-null      int64  \n",
      " 2   race_time              1 non-null      object \n",
      " 3   race_date              1 non-null      object \n",
      " 4   horse_id               1 non-null      int64  \n",
      " 5   horse_name             1 non-null      object \n",
      " 6   selection_type         1 non-null      object \n",
      " 7   market_type            1 non-null      object \n",
      " 8   market_id              1 non-null      object \n",
      " 9   selection_id           0 non-null      float64\n",
      " 10  requested_odds         1 non-null      float64\n",
      " 11  valid                  1 non-null      bool   \n",
      " 12  invalidated_at         0 non-null      float64\n",
      " 13  invalidated_reason     0 non-null      float64\n",
      " 14  size_matched           1 non-null      float64\n",
      " 15  average_price_matched  1 non-null      float64\n",
      " 16  cashed_out             1 non-null      bool   \n",
      " 17  fully_matched          1 non-null      bool   \n",
      " 18  customer_strategy_ref  1 non-null      object \n",
      " 19  created_at             1 non-null      object \n",
      " 20  processed_at           1 non-null      object \n",
      " 21  bet_outcome            1 non-null      object \n",
      " 22  event_id               0 non-null      float64\n",
      " 23  price_matched          0 non-null      float64\n",
      " 24  profit                 1 non-null      int64  \n",
      " 25  commission             0 non-null      float64\n",
      " 26  side                   1 non-null      object \n",
      "dtypes: bool(3), float64(9), int64(3), object(12)\n",
      "memory usage: 327.0+ bytes\n"
     ]
    }
   ],
   "source": [
    "df.info()"
   ]
  },
  {
   "cell_type": "code",
   "execution_count": null,
   "metadata": {},
   "outputs": [],
   "source": []
  }
 ],
 "metadata": {
  "kernelspec": {
   "display_name": "racing-api-project",
   "language": "python",
   "name": "python3"
  },
  "language_info": {
   "codemirror_mode": {
    "name": "ipython",
    "version": 3
   },
   "file_extension": ".py",
   "mimetype": "text/x-python",
   "name": "python",
   "nbconvert_exporter": "python",
   "pygments_lexer": "ipython3",
   "version": "3.11.12"
  }
 },
 "nbformat": 4,
 "nbformat_minor": 2
}
