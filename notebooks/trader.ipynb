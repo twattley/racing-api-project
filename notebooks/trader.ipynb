{
 "cells": [
  {
   "cell_type": "code",
   "execution_count": 2,
   "metadata": {},
   "outputs": [
    {
     "data": {
      "text/plain": [
       "True"
      ]
     },
     "execution_count": 2,
     "metadata": {},
     "output_type": "execute_result"
    }
   ],
   "source": [
    "import pandas as pd\n",
    "from dotenv import load_dotenv\n",
    "\n",
    "load_dotenv(\n",
    "    dotenv_path=\"/Users/tomwattley/App/racing-api-project/racing-api-project/libraries/api-helpers/src/api_helpers/.env\"\n",
    ")"
   ]
  },
  {
   "cell_type": "code",
   "execution_count": 3,
   "metadata": {},
   "outputs": [],
   "source": [
    "df = pd.read_parquet('/Users/tomwattley/App/racing-api-project/racing-api-project/apps/racing-api/src/betting_analysis_64.parquet')"
   ]
  },
  {
   "cell_type": "code",
   "execution_count": 4,
   "metadata": {},
   "outputs": [
    {
     "data": {
      "text/plain": [
       "Index(['betting_type', 'session_id', 'confidence', 'horse_name', 'age',\n",
       "       'horse_sex', 'draw', 'headgear', 'weight_carried', 'weight_carried_lbs',\n",
       "       'extra_weight', 'jockey_claim', 'finishing_position',\n",
       "       'total_distance_beaten', 'industry_sp', 'betfair_win_sp',\n",
       "       'betfair_place_sp', 'official_rating', 'ts', 'rpr', 'tfr', 'tfig',\n",
       "       'in_play_high', 'in_play_low', 'in_race_comment', 'tf_comment',\n",
       "       'tfr_view', 'race_id', 'horse_id', 'jockey_id', 'trainer_id',\n",
       "       'owner_id', 'sire_id', 'dam_id', 'unique_id', 'race_time', 'race_date',\n",
       "       'race_title', 'race_type', 'race_class', 'distance', 'distance_yards',\n",
       "       'distance_meters', 'distance_kilometers', 'conditions', 'going',\n",
       "       'number_of_runners', 'hcap_range', 'age_range', 'surface',\n",
       "       'total_prize_money', 'first_place_prize_money', 'winning_time',\n",
       "       'time_seconds', 'relative_time', 'relative_to_standard', 'country',\n",
       "       'main_race_comment', 'meeting_id', 'course_id', 'course', 'dam', 'sire',\n",
       "       'trainer', 'jockey', 'price_move', 'created_at', 'win', 'place',\n",
       "       'bet_result', 'bet_number', 'running_total', 'overall_total'],\n",
       "      dtype='object')"
      ]
     },
     "execution_count": 4,
     "metadata": {},
     "output_type": "execute_result"
    }
   ],
   "source": [
    "df.columns"
   ]
  },
  {
   "cell_type": "code",
   "execution_count": 10,
   "metadata": {},
   "outputs": [
    {
     "data": {
      "text/html": [
       "<div>\n",
       "<style scoped>\n",
       "    .dataframe tbody tr th:only-of-type {\n",
       "        vertical-align: middle;\n",
       "    }\n",
       "\n",
       "    .dataframe tbody tr th {\n",
       "        vertical-align: top;\n",
       "    }\n",
       "\n",
       "    .dataframe thead th {\n",
       "        text-align: right;\n",
       "    }\n",
       "</style>\n",
       "<table border=\"1\" class=\"dataframe\">\n",
       "  <thead>\n",
       "    <tr style=\"text-align: right;\">\n",
       "      <th></th>\n",
       "      <th>bet_result</th>\n",
       "      <th>bet_number</th>\n",
       "      <th>running_total</th>\n",
       "      <th>overall_total</th>\n",
       "    </tr>\n",
       "  </thead>\n",
       "  <tbody>\n",
       "    <tr>\n",
       "      <th>0</th>\n",
       "      <td>-1.00</td>\n",
       "      <td>172</td>\n",
       "      <td>-9.97</td>\n",
       "      <td>-7.75</td>\n",
       "    </tr>\n",
       "    <tr>\n",
       "      <th>4</th>\n",
       "      <td>4.76</td>\n",
       "      <td>171</td>\n",
       "      <td>-8.97</td>\n",
       "      <td>-8.16</td>\n",
       "    </tr>\n",
       "    <tr>\n",
       "      <th>5</th>\n",
       "      <td>-1.00</td>\n",
       "      <td>170</td>\n",
       "      <td>-13.73</td>\n",
       "      <td>-9.16</td>\n",
       "    </tr>\n",
       "    <tr>\n",
       "      <th>6</th>\n",
       "      <td>-1.00</td>\n",
       "      <td>169</td>\n",
       "      <td>-12.73</td>\n",
       "      <td>-12.92</td>\n",
       "    </tr>\n",
       "    <tr>\n",
       "      <th>11</th>\n",
       "      <td>-1.00</td>\n",
       "      <td>168</td>\n",
       "      <td>-11.73</td>\n",
       "      <td>-8.92</td>\n",
       "    </tr>\n",
       "    <tr>\n",
       "      <th>...</th>\n",
       "      <td>...</td>\n",
       "      <td>...</td>\n",
       "      <td>...</td>\n",
       "      <td>...</td>\n",
       "    </tr>\n",
       "    <tr>\n",
       "      <th>568</th>\n",
       "      <td>1.07</td>\n",
       "      <td>1</td>\n",
       "      <td>1.07</td>\n",
       "      <td>2.00</td>\n",
       "    </tr>\n",
       "    <tr>\n",
       "      <th>565</th>\n",
       "      <td>0.00</td>\n",
       "      <td>1</td>\n",
       "      <td>0.00</td>\n",
       "      <td>1.77</td>\n",
       "    </tr>\n",
       "    <tr>\n",
       "      <th>449</th>\n",
       "      <td>0.00</td>\n",
       "      <td>1</td>\n",
       "      <td>0.00</td>\n",
       "      <td>0.72</td>\n",
       "    </tr>\n",
       "    <tr>\n",
       "      <th>559</th>\n",
       "      <td>6.81</td>\n",
       "      <td>1</td>\n",
       "      <td>6.81</td>\n",
       "      <td>5.84</td>\n",
       "    </tr>\n",
       "    <tr>\n",
       "      <th>573</th>\n",
       "      <td>2.38</td>\n",
       "      <td>1</td>\n",
       "      <td>2.38</td>\n",
       "      <td>1.38</td>\n",
       "    </tr>\n",
       "  </tbody>\n",
       "</table>\n",
       "<p>574 rows × 4 columns</p>\n",
       "</div>"
      ],
      "text/plain": [
       "     bet_result  bet_number  running_total  overall_total\n",
       "0         -1.00         172          -9.97          -7.75\n",
       "4          4.76         171          -8.97          -8.16\n",
       "5         -1.00         170         -13.73          -9.16\n",
       "6         -1.00         169         -12.73         -12.92\n",
       "11        -1.00         168         -11.73          -8.92\n",
       "..          ...         ...            ...            ...\n",
       "568        1.07           1           1.07           2.00\n",
       "565        0.00           1           0.00           1.77\n",
       "449        0.00           1           0.00           0.72\n",
       "559        6.81           1           6.81           5.84\n",
       "573        2.38           1           2.38           1.38\n",
       "\n",
       "[574 rows x 4 columns]"
      ]
     },
     "execution_count": 10,
     "metadata": {},
     "output_type": "execute_result"
    }
   ],
   "source": [
    "df[[ 'bet_result','bet_number', 'running_total', 'overall_total']].sort_values(by=['bet_number'], ascending=False)"
   ]
  },
  {
   "cell_type": "code",
   "execution_count": 9,
   "metadata": {},
   "outputs": [
    {
     "data": {
      "text/plain": [
       "betting_type\n",
       "back_mid_price         172\n",
       "back_outsider_place    148\n",
       "lay_favourite           98\n",
       "lay_mid_price_place     82\n",
       "back_outsider           32\n",
       "dutch_lay               23\n",
       "dutch_back              19\n",
       "Name: count, dtype: int64"
      ]
     },
     "execution_count": 9,
     "metadata": {},
     "output_type": "execute_result"
    }
   ],
   "source": [
    "df['betting_type'].value_counts()"
   ]
  },
  {
   "cell_type": "code",
   "execution_count": null,
   "metadata": {},
   "outputs": [],
   "source": []
  }
 ],
 "metadata": {
  "kernelspec": {
   "display_name": "racing-api-project",
   "language": "python",
   "name": "python3"
  },
  "language_info": {
   "codemirror_mode": {
    "name": "ipython",
    "version": 3
   },
   "file_extension": ".py",
   "mimetype": "text/x-python",
   "name": "python",
   "nbconvert_exporter": "python",
   "pygments_lexer": "ipython3",
   "version": "3.11.0"
  }
 },
 "nbformat": 4,
 "nbformat_minor": 2
}
