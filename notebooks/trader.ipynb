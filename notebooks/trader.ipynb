{
 "cells": [
  {
   "cell_type": "code",
   "execution_count": null,
   "metadata": {},
   "outputs": [
    {
     "ename": "",
     "evalue": "",
     "output_type": "error",
     "traceback": [
      "\u001b[1;31mRunning cells with 'Python 3.12.4' requires the ipykernel package.\n",
      "\u001b[1;31m<a href='command:jupyter.createPythonEnvAndSelectController'>Create a Python Environment</a> with the required packages.\n",
      "\u001b[1;31mOr install 'ipykernel' using the command: '/opt/homebrew/bin/python3.12 -m pip install ipykernel -U --user --force-reinstall'"
     ]
    }
   ],
   "source": [
    "import pandas as pd\n",
    "import numpy as np\n",
    "from datetime import datetime, timedelta\n",
    "from dotenv import load_dotenv\n",
    "\n",
    "load_dotenv(\n",
    "    dotenv_path=\"/Users/tomwattley/App/racing-api-project/racing-api-project/libraries/api-helpers/src/api_helpers/.env\"\n",
    ")"
   ]
  },
  {
   "cell_type": "code",
   "execution_count": 2,
   "metadata": {},
   "outputs": [
    {
     "name": "stderr",
     "output_type": "stream",
     "text": [
      "2025-06-06T09:48:27Z | INFO - Logging into Betfair...\n"
     ]
    },
    {
     "name": "stdout",
     "output_type": "stream",
     "text": [
      "Monorepo root: /Users/tomwattley/App/racing-api-project/racing-api-project\n"
     ]
    },
    {
     "name": "stderr",
     "output_type": "stream",
     "text": [
      "2025-06-06T09:48:27Z | INFO - Logged into Betfair!\n",
      "2025-06-06T09:48:27Z | INFO - Created new S3 client.\n"
     ]
    }
   ],
   "source": [
    "# from trader.fetch_requests import *\n",
    "# from trader.prepare_requests import *\n",
    "from api_helpers.clients import get_betfair_client, get_s3_client, get_postgres_client\n",
    "# from api_helpers.helpers.data_utils import print_dataframe_for_testing\n",
    "from api_helpers.helpers.file_utils import S3FilePaths\n",
    "# from api_helpers.helpers.data_utils import deduplicate_dataframe, combine_dataframes\n",
    "\n",
    "paths = S3FilePaths()\n",
    "\n",
    "betfair_client = get_betfair_client()\n",
    "s3_client = get_s3_client()\n",
    "postgres_client = get_postgres_client()\n"
   ]
  },
  {
   "cell_type": "code",
   "execution_count": 26,
   "metadata": {},
   "outputs": [
    {
     "name": "stderr",
     "output_type": "stream",
     "text": [
      "2025-06-06T10:07:04Z | INFO - DataFrame loaded from racingapi/today/2025_05_27/trader_data/market_state.parquet.\n"
     ]
    },
    {
     "name": "stdout",
     "output_type": "stream",
     "text": [
      "<class 'pandas.core.frame.DataFrame'>\n",
      "RangeIndex: 24 entries, 0 to 23\n",
      "Data columns (total 12 columns):\n",
      " #   Column             Non-Null Count  Dtype         \n",
      "---  ------             --------------  -----         \n",
      " 0   horse_name         24 non-null     object        \n",
      " 1   selection_id       24 non-null     int64         \n",
      " 2   back_price_win     24 non-null     float64       \n",
      " 3   lay_price_win      24 non-null     float64       \n",
      " 4   back_price_place   24 non-null     float64       \n",
      " 5   lay_price_place    24 non-null     float64       \n",
      " 6   race_id            24 non-null     int64         \n",
      " 7   race_date          24 non-null     object        \n",
      " 8   race_time          24 non-null     datetime64[us]\n",
      " 9   market_id_win      24 non-null     object        \n",
      " 10  market_id_place    24 non-null     object        \n",
      " 11  number_of_runners  24 non-null     int64         \n",
      "dtypes: datetime64[us](1), float64(4), int64(3), object(4)\n",
      "memory usage: 2.4+ KB\n",
      "None\n"
     ]
    }
   ],
   "source": [
    "r = s3_client.fetch_data('today/2025_05_27/trader_data/market_state.parquet')\n",
    "# s = s3_client.fetch_data('historical/betting_results/selections.parquet')\n",
    "print(r.info())"
   ]
  },
  {
   "cell_type": "code",
   "execution_count": 8,
   "metadata": {},
   "outputs": [
    {
     "data": {
      "text/plain": [
       "Index(['race_date', 'race_id', 'horse_id', 'betting_type', 'created_at',\n",
       "       'session_id', 'confidence', 'betfair_win_sp', 'betfair_place_sp',\n",
       "       'number_of_runners', 'finishing_position'],\n",
       "      dtype='object')"
      ]
     },
     "execution_count": 8,
     "metadata": {},
     "output_type": "execute_result"
    }
   ],
   "source": [
    "pd.merge(s, r, how='left', on=['race_date', 'race_id', 'horse_id']).columns"
   ]
  },
  {
   "cell_type": "code",
   "execution_count": 9,
   "metadata": {},
   "outputs": [
    {
     "data": {
      "text/html": [
       "<div>\n",
       "<style scoped>\n",
       "    .dataframe tbody tr th:only-of-type {\n",
       "        vertical-align: middle;\n",
       "    }\n",
       "\n",
       "    .dataframe tbody tr th {\n",
       "        vertical-align: top;\n",
       "    }\n",
       "\n",
       "    .dataframe thead th {\n",
       "        text-align: right;\n",
       "    }\n",
       "</style>\n",
       "<table border=\"1\" class=\"dataframe\">\n",
       "  <thead>\n",
       "    <tr style=\"text-align: right;\">\n",
       "      <th></th>\n",
       "      <th>race_date</th>\n",
       "      <th>race_id</th>\n",
       "      <th>horse_id</th>\n",
       "      <th>betting_type</th>\n",
       "      <th>created_at</th>\n",
       "      <th>session_id</th>\n",
       "      <th>confidence</th>\n",
       "      <th>betfair_win_sp</th>\n",
       "      <th>betfair_place_sp</th>\n",
       "      <th>number_of_runners</th>\n",
       "      <th>finishing_position</th>\n",
       "    </tr>\n",
       "  </thead>\n",
       "  <tbody>\n",
       "    <tr>\n",
       "      <th>0</th>\n",
       "      <td>2021-01-16</td>\n",
       "      <td>773991</td>\n",
       "      <td>151744</td>\n",
       "      <td>back_outsider_place</td>\n",
       "      <td>2024-12-23 06:02:19.917365+00:00</td>\n",
       "      <td>2</td>\n",
       "      <td>0.6</td>\n",
       "      <td>9.00</td>\n",
       "      <td>3.75</td>\n",
       "      <td>7</td>\n",
       "      <td>2</td>\n",
       "    </tr>\n",
       "    <tr>\n",
       "      <th>1</th>\n",
       "      <td>2021-01-16</td>\n",
       "      <td>773991</td>\n",
       "      <td>134085</td>\n",
       "      <td>back_outsider_place</td>\n",
       "      <td>2024-12-23 06:02:19.917365+00:00</td>\n",
       "      <td>2</td>\n",
       "      <td>0.6</td>\n",
       "      <td>8.83</td>\n",
       "      <td>3.47</td>\n",
       "      <td>7</td>\n",
       "      <td>3</td>\n",
       "    </tr>\n",
       "    <tr>\n",
       "      <th>2</th>\n",
       "      <td>2021-01-16</td>\n",
       "      <td>773991</td>\n",
       "      <td>153381</td>\n",
       "      <td>lay_favourite</td>\n",
       "      <td>2024-12-23 06:02:48.589208+00:00</td>\n",
       "      <td>2</td>\n",
       "      <td>0.5</td>\n",
       "      <td>3.90</td>\n",
       "      <td>2.14</td>\n",
       "      <td>7</td>\n",
       "      <td>4</td>\n",
       "    </tr>\n",
       "    <tr>\n",
       "      <th>3</th>\n",
       "      <td>2021-01-16</td>\n",
       "      <td>776269</td>\n",
       "      <td>130659</td>\n",
       "      <td>back_outsider_place</td>\n",
       "      <td>2024-12-23 06:20:33.298191+00:00</td>\n",
       "      <td>3</td>\n",
       "      <td>0.6</td>\n",
       "      <td>9.20</td>\n",
       "      <td>2.96</td>\n",
       "      <td>10</td>\n",
       "      <td>6</td>\n",
       "    </tr>\n",
       "    <tr>\n",
       "      <th>4</th>\n",
       "      <td>2021-01-25</td>\n",
       "      <td>776910</td>\n",
       "      <td>152481</td>\n",
       "      <td>back_outsider_place</td>\n",
       "      <td>2024-12-29 20:32:43.066609+00:00</td>\n",
       "      <td>4</td>\n",
       "      <td>0.4</td>\n",
       "      <td>10.15</td>\n",
       "      <td>3.55</td>\n",
       "      <td>11</td>\n",
       "      <td>7</td>\n",
       "    </tr>\n",
       "    <tr>\n",
       "      <th>...</th>\n",
       "      <td>...</td>\n",
       "      <td>...</td>\n",
       "      <td>...</td>\n",
       "      <td>...</td>\n",
       "      <td>...</td>\n",
       "      <td>...</td>\n",
       "      <td>...</td>\n",
       "      <td>...</td>\n",
       "      <td>...</td>\n",
       "      <td>...</td>\n",
       "      <td>...</td>\n",
       "    </tr>\n",
       "    <tr>\n",
       "      <th>491</th>\n",
       "      <td>2022-04-01</td>\n",
       "      <td>806493</td>\n",
       "      <td>160178</td>\n",
       "      <td>back_outsider_place</td>\n",
       "      <td>2025-05-18 20:28:57.140853+00:00</td>\n",
       "      <td>55</td>\n",
       "      <td>0.5</td>\n",
       "      <td>13.00</td>\n",
       "      <td>3.80</td>\n",
       "      <td>14</td>\n",
       "      <td>9</td>\n",
       "    </tr>\n",
       "    <tr>\n",
       "      <th>492</th>\n",
       "      <td>2022-04-01</td>\n",
       "      <td>806267</td>\n",
       "      <td>165194</td>\n",
       "      <td>back_mid_price</td>\n",
       "      <td>2025-05-26 20:26:23.122697+00:00</td>\n",
       "      <td>56</td>\n",
       "      <td>0.5</td>\n",
       "      <td>3.87</td>\n",
       "      <td>2.04</td>\n",
       "      <td>6</td>\n",
       "      <td>2</td>\n",
       "    </tr>\n",
       "    <tr>\n",
       "      <th>493</th>\n",
       "      <td>2022-04-01</td>\n",
       "      <td>806263</td>\n",
       "      <td>154573</td>\n",
       "      <td>lay_mid_price_place</td>\n",
       "      <td>2025-05-26 20:32:32.253423+00:00</td>\n",
       "      <td>56</td>\n",
       "      <td>0.5</td>\n",
       "      <td>4.62</td>\n",
       "      <td>1.95</td>\n",
       "      <td>8</td>\n",
       "      <td>PU</td>\n",
       "    </tr>\n",
       "    <tr>\n",
       "      <th>494</th>\n",
       "      <td>2022-04-02</td>\n",
       "      <td>806259</td>\n",
       "      <td>137427</td>\n",
       "      <td>lay_favourite</td>\n",
       "      <td>2025-05-28 19:34:21.680461+00:00</td>\n",
       "      <td>57</td>\n",
       "      <td>0.5</td>\n",
       "      <td>2.62</td>\n",
       "      <td>1.40</td>\n",
       "      <td>7</td>\n",
       "      <td>F</td>\n",
       "    </tr>\n",
       "    <tr>\n",
       "      <th>495</th>\n",
       "      <td>2022-04-02</td>\n",
       "      <td>806258</td>\n",
       "      <td>146717</td>\n",
       "      <td>lay_favourite</td>\n",
       "      <td>2025-05-28 19:46:58.718028+00:00</td>\n",
       "      <td>57</td>\n",
       "      <td>0.5</td>\n",
       "      <td>2.68</td>\n",
       "      <td>1.52</td>\n",
       "      <td>5</td>\n",
       "      <td>1</td>\n",
       "    </tr>\n",
       "  </tbody>\n",
       "</table>\n",
       "<p>496 rows × 11 columns</p>\n",
       "</div>"
      ],
      "text/plain": [
       "      race_date  race_id  horse_id         betting_type  \\\n",
       "0    2021-01-16   773991    151744  back_outsider_place   \n",
       "1    2021-01-16   773991    134085  back_outsider_place   \n",
       "2    2021-01-16   773991    153381        lay_favourite   \n",
       "3    2021-01-16   776269    130659  back_outsider_place   \n",
       "4    2021-01-25   776910    152481  back_outsider_place   \n",
       "..          ...      ...       ...                  ...   \n",
       "491  2022-04-01   806493    160178  back_outsider_place   \n",
       "492  2022-04-01   806267    165194       back_mid_price   \n",
       "493  2022-04-01   806263    154573  lay_mid_price_place   \n",
       "494  2022-04-02   806259    137427        lay_favourite   \n",
       "495  2022-04-02   806258    146717        lay_favourite   \n",
       "\n",
       "                          created_at  session_id  confidence  betfair_win_sp  \\\n",
       "0   2024-12-23 06:02:19.917365+00:00           2         0.6            9.00   \n",
       "1   2024-12-23 06:02:19.917365+00:00           2         0.6            8.83   \n",
       "2   2024-12-23 06:02:48.589208+00:00           2         0.5            3.90   \n",
       "3   2024-12-23 06:20:33.298191+00:00           3         0.6            9.20   \n",
       "4   2024-12-29 20:32:43.066609+00:00           4         0.4           10.15   \n",
       "..                               ...         ...         ...             ...   \n",
       "491 2025-05-18 20:28:57.140853+00:00          55         0.5           13.00   \n",
       "492 2025-05-26 20:26:23.122697+00:00          56         0.5            3.87   \n",
       "493 2025-05-26 20:32:32.253423+00:00          56         0.5            4.62   \n",
       "494 2025-05-28 19:34:21.680461+00:00          57         0.5            2.62   \n",
       "495 2025-05-28 19:46:58.718028+00:00          57         0.5            2.68   \n",
       "\n",
       "     betfair_place_sp  number_of_runners finishing_position  \n",
       "0                3.75                  7                  2  \n",
       "1                3.47                  7                  3  \n",
       "2                2.14                  7                  4  \n",
       "3                2.96                 10                  6  \n",
       "4                3.55                 11                  7  \n",
       "..                ...                ...                ...  \n",
       "491              3.80                 14                  9  \n",
       "492              2.04                  6                  2  \n",
       "493              1.95                  8                 PU  \n",
       "494              1.40                  7                  F  \n",
       "495              1.52                  5                  1  \n",
       "\n",
       "[496 rows x 11 columns]"
      ]
     },
     "execution_count": 9,
     "metadata": {},
     "output_type": "execute_result"
    }
   ],
   "source": [
    "pd.merge(s, r, how='left', on=['race_date', 'race_id', 'horse_id'])\n"
   ]
  },
  {
   "cell_type": "code",
   "execution_count": null,
   "metadata": {},
   "outputs": [],
   "source": [
    "df = pd.DataFrame(\n",
    "    {\n",
    "        \"session_id\": [57],\n",
    "    }\n",
    ")"
   ]
  },
  {
   "cell_type": "code",
   "execution_count": 10,
   "metadata": {},
   "outputs": [
    {
     "name": "stderr",
     "output_type": "stream",
     "text": [
      "2025-06-03T15:41:56Z | INFO - DataFrame uploaded to racingapi/historical/betting_results/session_id.parquet.\n"
     ]
    },
    {
     "data": {
      "text/plain": [
       "True"
      ]
     },
     "execution_count": 10,
     "metadata": {},
     "output_type": "execute_result"
    }
   ],
   "source": [
    "s3_client.store_data(\n",
    "    pd.DataFrame(\n",
    "    {\n",
    "        \"session_id\": [57],\n",
    "    }\n",
    "),\n",
    "    'historical/betting_results/session_id.parquet',\n",
    ")"
   ]
  },
  {
   "cell_type": "code",
   "execution_count": 12,
   "metadata": {},
   "outputs": [
    {
     "name": "stderr",
     "output_type": "stream",
     "text": [
      "2025-06-03T16:47:07Z | INFO - DataFrame loaded from racingapi/historical/betting_results/session_id.parquet.\n"
     ]
    },
    {
     "data": {
      "text/plain": [
       "58"
      ]
     },
     "execution_count": 12,
     "metadata": {},
     "output_type": "execute_result"
    }
   ],
   "source": [
    "session_data = s3_client.fetch_data(\n",
    "    \"historical/betting_results/session_id.parquet\"\n",
    ")\n",
    "int(int(session_data[\"session_id\"].iloc[0]) + 1)"
   ]
  },
  {
   "cell_type": "code",
   "execution_count": 2,
   "metadata": {},
   "outputs": [],
   "source": [
    "p = {\n",
    "    \"elapsed_time\": 0.17349600791931152,\n",
    "    \"_data\": {\n",
    "        \"status\": \"SUCCESS\",\n",
    "        \"marketId\": \"1.244664749\",\n",
    "        \"instructionReports\": [\n",
    "            {\n",
    "                \"status\": \"SUCCESS\",\n",
    "                \"instruction\": {\n",
    "                    \"selectionId\": 72145708,\n",
    "                    \"limitOrder\": {\n",
    "                        \"size\": 5.0,\n",
    "                        \"price\": 3.15,\n",
    "                        \"persistenceType\": \"LAPSE\",\n",
    "                    },\n",
    "                    \"orderType\": \"LIMIT\",\n",
    "                    \"side\": \"BACK\",\n",
    "                },\n",
    "                \"betId\": \"391828075264\",\n",
    "                \"placedDate\": \"2025-06-11T19:51:51.000Z\",\n",
    "                \"averagePriceMatched\": 3.15,\n",
    "                \"sizeMatched\": 5.0,\n",
    "                \"orderStatus\": \"EXECUTION_COMPLETE\",\n",
    "            }\n",
    "        ],\n",
    "    },\n",
    "}"
   ]
  },
  {
   "cell_type": "code",
   "execution_count": 6,
   "metadata": {},
   "outputs": [
    {
     "data": {
      "text/plain": [
       "3.15"
      ]
     },
     "execution_count": 6,
     "metadata": {},
     "output_type": "execute_result"
    }
   ],
   "source": [
    "p['_data']['instructionReports'][0]['averagePriceMatched']"
   ]
  },
  {
   "cell_type": "code",
   "execution_count": 8,
   "metadata": {},
   "outputs": [
    {
     "data": {
      "text/plain": [
       "5.0"
      ]
     },
     "execution_count": 8,
     "metadata": {},
     "output_type": "execute_result"
    }
   ],
   "source": [
    "p['_data']['instructionReports'][0]['sizeMatched']"
   ]
  },
  {
   "cell_type": "code",
   "execution_count": null,
   "metadata": {},
   "outputs": [],
   "source": []
  }
 ],
 "metadata": {
  "kernelspec": {
   "display_name": "Python 3",
   "language": "python",
   "name": "python3"
  },
  "language_info": {
   "codemirror_mode": {
    "name": "ipython",
    "version": 3
   },
   "file_extension": ".py",
   "mimetype": "text/x-python",
   "name": "python",
   "nbconvert_exporter": "python",
   "pygments_lexer": "ipython3",
   "version": "3.12.4"
  }
 },
 "nbformat": 4,
 "nbformat_minor": 2
}
