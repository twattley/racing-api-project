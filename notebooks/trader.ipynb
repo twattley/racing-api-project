{
 "cells": [
  {
   "cell_type": "code",
   "execution_count": null,
   "metadata": {},
   "outputs": [],
   "source": [
    "import pandas as pd\n",
    "import numpy as np\n",
    "\n",
    "from dotenv import load_dotenv\n",
    "\n",
    "load_dotenv(\n",
    "    dotenv_path=\"/Users/tomwattley/App/racing-api-project/racing-api-project/libraries/api-helpers/src/api_helpers/.env\"\n",
    ")"
   ]
  },
  {
   "cell_type": "code",
   "execution_count": null,
   "metadata": {},
   "outputs": [],
   "source": [
    "from trader.fetch_requests import *\n",
    "from trader.prepare_requests import *\n",
    "from api_helpers.clients import get_betfair_client, get_s3_client\n",
    "from api_helpers.helpers.data_utils import print_dataframe_for_testing\n",
    "from api_helpers.helpers.file_utils import S3FilePaths\n",
    "from api_helpers.helpers.data_utils import deduplicate_dataframe, combine_dataframes\n",
    "\n",
    "paths = S3FilePaths()\n",
    "\n",
    "betfair_client = get_betfair_client()\n",
    "s3_client = get_s3_client()\n",
    "betting_data = fetch_betting_data(s3_client, betfair_client)\n",
    "requests_data = prepare_request_data(betting_data)"
   ]
  },
  {
   "cell_type": "code",
   "execution_count": null,
   "metadata": {},
   "outputs": [],
   "source": [
    "betting_data.betting_data.selections"
   ]
  },
  {
   "cell_type": "code",
   "execution_count": null,
   "metadata": {},
   "outputs": [],
   "source": [
    "requests_data"
   ]
  },
  {
   "cell_type": "code",
   "execution_count": null,
   "metadata": {},
   "outputs": [],
   "source": [
    "p = betfair_client.get_past_orders_by_market_id([\"1.244208713\", \"1.244208667\"])\n",
    "p"
   ]
  },
  {
   "cell_type": "code",
   "execution_count": null,
   "metadata": {},
   "outputs": [],
   "source": [
    "q = betfair_client.get_past_orders_by_date_range(\"2023-05-20\", \"2025-05-28\")"
   ]
  },
  {
   "cell_type": "code",
   "execution_count": null,
   "metadata": {},
   "outputs": [],
   "source": [
    "pd.merge(p, requests_data, how=\"left\", on=[\"selection_id\", \"market_id\"])"
   ]
  },
  {
   "cell_type": "code",
   "execution_count": null,
   "metadata": {},
   "outputs": [],
   "source": [
    "p[\n",
    "    [\n",
    "        \"bet_outcome\",\n",
    "        \"customer_strategy_ref\",\n",
    "        \"market_id\",\n",
    "        \"order_type\",\n",
    "        \"placed_date\",\n",
    "        \"price_matched\",\n",
    "        \"selection_id\",\n",
    "        \"settled_date\",\n",
    "        \"side\",\n",
    "        \"size_settled\",\n",
    "    ]\n",
    "].head(2)"
   ]
  },
  {
   "cell_type": "code",
   "execution_count": null,
   "metadata": {},
   "outputs": [],
   "source": [
    "print_dataframe_for_testing(requests_data)"
   ]
  },
  {
   "cell_type": "code",
   "execution_count": null,
   "metadata": {},
   "outputs": [],
   "source": [
    "tf = pd.DataFrame(\n",
    "    {\n",
    "        \"id\": [\n",
    "            \"a420210f-f017-4e5a-a7d6-25efe4c2ce18\",\n",
    "            \"a420210f-f017-4e5a-a7d6-25efe4c2ce18\",\n",
    "        ],\n",
    "        \"timestamp\": [\n",
    "            pd.Timestamp(\"2025-05-27 12:19:01.350000+00:00\"),\n",
    "            pd.Timestamp(\"2025-05-27 12:19:01.350000+00:00\"),\n",
    "        ],\n",
    "        \"race_id\": [893932, 893932],\n",
    "        \"horse_id\": [169155, 169155],\n",
    "        \"horse_name\": [\"Devasboy\", \"Devasboy\"],\n",
    "        \"selection_type\": [\"BACK\", \"LAY\"],\n",
    "        \"market_type\": [\"WIN\", \"WIN\"],\n",
    "        \"market_id\": [\"1.244208713\", \"1.244208713\"],\n",
    "        \"selection_id\": [40379042, 40379042],\n",
    "        \"requested_odds\": [5.2, 5.2],\n",
    "        \"race_time\": [\n",
    "            pd.Timestamp(\"2025-05-27 17:10:00+01:00\"),\n",
    "            pd.Timestamp(\"2025-05-27 17:10:00+01:00\"),\n",
    "        ],\n",
    "        \"minutes_to_race\": [53, 53],\n",
    "        \"back_price_1\": [5.4, 5.4],\n",
    "        \"back_price_1_depth\": [23.0, 23.0],\n",
    "        \"back_price_2\": [5.3, 5.3],\n",
    "        \"back_price_2_depth\": [46.0, 46.0],\n",
    "        \"lay_price_1\": [5.5, 5.5],\n",
    "        \"lay_price_1_depth\": [43.0, 43.0],\n",
    "        \"lay_price_2\": [5.6, 5.6],\n",
    "        \"lay_price_2_depth\": [66.0, 66.0],\n",
    "        \"eight_to_seven_runners\": [False, False],\n",
    "        \"short_price_removed_runners\": [False, False],\n",
    "        \"average_price_matched\": [5.2, 5.4],\n",
    "        \"size_matched\": [5.0, 4.81],\n",
    "        \"customer_strategy_ref\": [\"mvp\", \"cash_out\"],\n",
    "    }\n",
    ")"
   ]
  },
  {
   "cell_type": "code",
   "execution_count": null,
   "metadata": {},
   "outputs": [],
   "source": [
    "def identify_cashed_out_bets(df: pd.DataFrame) -> pd.DataFrame:\n",
    "    group_cols = [\"race_id\", \"horse_id\", \"market_id\", \"selection_id\"]\n",
    "\n",
    "    grouped = (\n",
    "        df.groupby(group_cols)\n",
    "        .agg(\n",
    "            {\n",
    "                \"selection_type\": lambda x: set(x),\n",
    "                \"customer_strategy_ref\": lambda x: set(x),\n",
    "                \"id\": \"first\",\n",
    "                \"horse_name\": \"first\",\n",
    "                \"market_type\": \"first\",\n",
    "            }\n",
    "        )\n",
    "        .reset_index()\n",
    "    )\n",
    "\n",
    "    cashed_out_mask = (\n",
    "        # Has both BACK and LAY\n",
    "        grouped[\"selection_type\"].apply(lambda x: {\"BACK\", \"LAY\"}.issubset(x))\n",
    "        &\n",
    "        # Has 'cash_out' strategy\n",
    "        grouped[\"customer_strategy_ref\"].apply(lambda x: \"cash_out\" in x)\n",
    "    )\n",
    "\n",
    "    cashed_out_groups = grouped[cashed_out_mask][group_cols]\n",
    "\n",
    "    df_with_cashout = (\n",
    "        df.merge(\n",
    "            cashed_out_groups.assign(is_cashed_out=True), on=group_cols, how=\"left\"\n",
    "        )\n",
    "        .assign(is_cashed_out=lambda x: x[\"is_cashed_out\"].astype(\"boolean\"))\n",
    "        .fillna({\"is_cashed_out\": False})\n",
    "    )\n",
    "\n",
    "    return df_with_cashout\n",
    "\n",
    "\n",
    "def split_cashed_out_bets(df: pd.DataFrame) -> pd.DataFrame:\n",
    "    \"\"\"Extract only the bets that have been cashed out\"\"\"\n",
    "    df_with_cashout = identify_cashed_out_bets(df)\n",
    "    return (\n",
    "        df_with_cashout[df_with_cashout[\"is_cashed_out\"] == True].drop(\n",
    "            columns=[\"is_cashed_out\"]\n",
    "        ),\n",
    "        df_with_cashout[df_with_cashout[\"is_cashed_out\"] == False].drop(\n",
    "            columns=[\"is_cashed_out\"]\n",
    "        ),\n",
    "    )\n",
    "\n",
    "\n",
    "cf, nf = split_cashed_out_bets(tf)\n",
    "cf"
   ]
  },
  {
   "cell_type": "code",
   "execution_count": null,
   "metadata": {},
   "outputs": [],
   "source": [
    "nf"
   ]
  },
  {
   "cell_type": "code",
   "execution_count": null,
   "metadata": {},
   "outputs": [],
   "source": [
    "cashout_back = cf[cf[\"selection_type\"] == \"BACK\"]\n",
    "cashout_lay = cf[cf[\"selection_type\"] == \"LAY\"]\n",
    "merged_cashout = pd.merge(\n",
    "    cashout_back,\n",
    "    cashout_lay,\n",
    "    on=[\"race_id\", \"horse_id\", \"market_id\", \"selection_id\"],\n",
    "    suffixes=(\"_back\", \"_lay\"),\n",
    ")"
   ]
  },
  {
   "cell_type": "code",
   "execution_count": null,
   "metadata": {},
   "outputs": [],
   "source": [
    "merged_cashout[\n",
    "    [\n",
    "        \"race_id\",\n",
    "        \"horse_id\",\n",
    "        \"horse_name_back\",\n",
    "        \"market_id\",\n",
    "        \"selection_id\",\n",
    "        \"average_price_matched_back\",\n",
    "        \"size_matched_back\",\n",
    "        \"average_price_matched_lay\",\n",
    "        \"size_matched_lay\",\n",
    "    ]\n",
    "].rename(\n",
    "    columns={\n",
    "        \"horse_name_back\": \"horse_name\",\n",
    "    }\n",
    ").assign(\n",
    "    is_cashed_out=True,\n",
    "    cash_out_liability=abs(\n",
    "        merged_cashout[\"size_matched_lay\"] - merged_cashout[\"size_matched_back\"]\n",
    "    ),\n",
    ").filter(\n",
    "    items=[\n",
    "        \"race_id\",\n",
    "        \"horse_id\",\n",
    "        \"horse_name\",\n",
    "        \"market_id\",\n",
    "        \"selection_id\",\n",
    "        \"is_cashed_out\",\n",
    "        \"cash_out_liability\",\n",
    "    ]\n",
    ").drop_duplicates()"
   ]
  },
  {
   "cell_type": "code",
   "execution_count": null,
   "metadata": {},
   "outputs": [],
   "source": [
    "p = betfair_client.get_current_orders()\n",
    "p[\"customer_strategy_ref\"]"
   ]
  },
  {
   "cell_type": "code",
   "execution_count": null,
   "metadata": {},
   "outputs": [],
   "source": []
  },
  {
   "cell_type": "code",
   "execution_count": null,
   "metadata": {},
   "outputs": [],
   "source": [
    "5.4 * 4.81"
   ]
  },
  {
   "cell_type": "code",
   "execution_count": null,
   "metadata": {},
   "outputs": [],
   "source": [
    "betting_data.cashed_out_bets"
   ]
  },
  {
   "cell_type": "code",
   "execution_count": null,
   "metadata": {},
   "outputs": [],
   "source": [
    "updated_requests_data = deduplicate_dataframe(\n",
    "    combine_dataframes(\n",
    "        requests_data,\n",
    "        betting_data.current_requests_data,\n",
    "    ),\n",
    "    betting_data.current_requests_data,\n",
    "    unique_columns=[\"id\", \"race_id\", \"horse_id\", \"selection_type\", \"market_id\"],\n",
    "    timestamp_column=\"timestamp\",\n",
    ")\n",
    "\n",
    "updated_requests_data"
   ]
  },
  {
   "cell_type": "code",
   "execution_count": null,
   "metadata": {},
   "outputs": [],
   "source": [
    "print_dataframe_for_testing(updated_requests_data)"
   ]
  },
  {
   "cell_type": "code",
   "execution_count": null,
   "metadata": {},
   "outputs": [],
   "source": [
    "rd = pd.DataFrame(\n",
    "    {\n",
    "        \"id\": [\"a420210f-f017-4e5a-a7d6-25efe4c2ce18\"],\n",
    "        \"timestamp\": [\n",
    "            pd.Timestamp(\"2025-05-27 12:19:01.350000+00:00\"),\n",
    "        ],\n",
    "        \"race_id\": [893932],\n",
    "        \"horse_id\": [169155],\n",
    "        \"horse_name\": [\"Devasboy\"],\n",
    "        \"selection_type\": [\"BACK\"],\n",
    "        \"market_type\": [\"WIN\"],\n",
    "        \"market_id\": [\"1.244208713\"],\n",
    "        \"selection_id\": [40379042],\n",
    "        \"requested_odds\": [5.2],\n",
    "        \"race_time\": [\n",
    "            pd.Timestamp(\"2025-05-27 17:10:00+01:00\"),\n",
    "        ],\n",
    "        \"minutes_to_race\": [122],\n",
    "        \"back_price_1\": [5.3],\n",
    "        \"back_price_1_depth\": [64.0],\n",
    "        \"back_price_2\": [5.2],\n",
    "        \"back_price_2_depth\": [46.0],\n",
    "        \"lay_price_1\": [5.4],\n",
    "        \"lay_price_1_depth\": [22.0],\n",
    "        \"lay_price_2\": [5.5],\n",
    "        \"lay_price_2_depth\": [43.0],\n",
    "        \"eight_to_seven_runners\": [False],\n",
    "        \"short_price_removed_runners\": [False],\n",
    "        \"average_price_matched\": [5.2],\n",
    "        \"size_matched\": [5.0],\n",
    "    }\n",
    ")"
   ]
  },
  {
   "cell_type": "code",
   "execution_count": null,
   "metadata": {},
   "outputs": [],
   "source": [
    "updated_requests_data = deduplicate_dataframe(\n",
    "    combine_dataframes(\n",
    "        requests_data,\n",
    "        betting_data.current_requests_data,\n",
    "    ),\n",
    "    betting_data.current_requests_data,\n",
    "    unique_columns=[\"id\", \"race_id\", \"horse_id\", \"selection_type\", \"market_id\"],\n",
    "    timestamp_column=\"timestamp\",\n",
    ")"
   ]
  },
  {
   "cell_type": "code",
   "execution_count": null,
   "metadata": {},
   "outputs": [],
   "source": [
    "updated_requests_data"
   ]
  },
  {
   "cell_type": "code",
   "execution_count": null,
   "metadata": {},
   "outputs": [],
   "source": [
    "s3_client.store_data(\n",
    "    requests_data, \"today/2025_05_27/trader_data/current_requests_data.parquet\"\n",
    ")"
   ]
  },
  {
   "cell_type": "code",
   "execution_count": null,
   "metadata": {},
   "outputs": [],
   "source": []
  },
  {
   "cell_type": "code",
   "execution_count": null,
   "metadata": {},
   "outputs": [],
   "source": [
    "betting_data.betfair_market_data[\"status_win\"] = np.where(\n",
    "    betting_data.betfair_market_data[\"horse_name\"] == \"Dashing Donkey\",\n",
    "    \"REMOVED\",\n",
    "    \"ACTIVE\",\n",
    ")"
   ]
  },
  {
   "cell_type": "code",
   "execution_count": null,
   "metadata": {},
   "outputs": [],
   "source": [
    "betting_data.betfair_market_data"
   ]
  },
  {
   "cell_type": "code",
   "execution_count": null,
   "metadata": {},
   "outputs": [],
   "source": [
    "s3_client.fetch_data(\"today/2025_05_27/trader_data/selections.parquet\")"
   ]
  },
  {
   "cell_type": "code",
   "execution_count": null,
   "metadata": {},
   "outputs": [],
   "source": [
    "pd.DataFrame(\n",
    "    {\n",
    "        \"bet_id\": [\"389581590544\", \"389581654562\", \"389582010825\", \"389582024559\"],\n",
    "        \"market_id\": [\"1.243895856\", \"1.243895856\", \"1.243895856\", \"1.243895856\"],\n",
    "        \"selection_id\": [71662002, 71662002, 71662002, 71662002],\n",
    "        \"selection_type\": [\"BACK\", \"BACK\", \"BACK\", \"BACK\"],\n",
    "        \"execution_status\": [\n",
    "            \"EXECUTION_COMPLETE\",\n",
    "            \"EXECUTABLE\",\n",
    "            \"EXECUTION_COMPLETE\",\n",
    "            \"EXECUTABLE\",\n",
    "        ],\n",
    "        \"placed_date\": [\n",
    "            pd.Timestamp(\"2025-05-19T19:09:42.000Z\"),\n",
    "            pd.Timestamp(\"2025-05-19T19:10:18.000Z\"),\n",
    "            pd.Timestamp(\"2025-05-19T19:13:32.000Z\"),\n",
    "            pd.Timestamp(\"2025-05-19T19:13:40.000Z\"),\n",
    "        ],\n",
    "        \"matched_date\": [\n",
    "            pd.Timestamp(\"2025-05-19T19:09:42.000Z\"),\n",
    "            pd.Timestamp(\"nan\"),\n",
    "            pd.Timestamp(\"2025-05-19T19:13:32.000Z\"),\n",
    "            pd.Timestamp(\"nan\"),\n",
    "        ],\n",
    "        \"average_price_matched\": [4.2, 0.0, 4.2, 0.0],\n",
    "        \"customer_strategy_ref\": [\"trader\", \"UI\", \"UI\", \"UI\"],\n",
    "        \"size_matched\": [5.0, 0.0, 5.0, 0.0],\n",
    "        \"size_remaining\": [0.0, 5.0, 0.0, 6.0],\n",
    "        \"size_lapsed\": [0.0, 0.0, 0.0, 0.0],\n",
    "        \"size_cancelled\": [0.0, 0.0, 0.0, 0.0],\n",
    "        \"size_voided\": [0.0, 0.0, 0.0, 0.0],\n",
    "        \"price\": [4.1, 5.0, 4.2, 5.0],\n",
    "        \"size\": [5.0, 5.0, 5.0, 6.0],\n",
    "    }\n",
    ")"
   ]
  },
  {
   "cell_type": "code",
   "execution_count": null,
   "metadata": {},
   "outputs": [],
   "source": [
    "sf = pd.DataFrame(\n",
    "    {\n",
    "        \"race_id\": [1, 2],\n",
    "        \"race_time\": [\n",
    "            pd.Timestamp(\"2020-01-01 12:00:00\"),\n",
    "            pd.Timestamp(\"2020-01-01 13:00:00\"),\n",
    "        ],\n",
    "        \"race_date\": [\n",
    "            pd.Timestamp(\"2020-01-01\"),\n",
    "            pd.Timestamp(\"2020-01-01\"),\n",
    "        ],\n",
    "        \"horse_id\": [1, 2],\n",
    "        \"horse_name\": [\"Horse A\", \"Horse B\"],\n",
    "        \"selection_type\": [\"BACK\", \"LAY\"],\n",
    "        \"market_type\": [\n",
    "            \"WIN\",\n",
    "            \"WIN\",\n",
    "        ],\n",
    "        \"market_id\": [\"1\", \"2\"],\n",
    "        \"selection_id\": [1, 2],\n",
    "        \"requested_odds\": [3, 4],\n",
    "    }\n",
    ")"
   ]
  },
  {
   "cell_type": "code",
   "execution_count": null,
   "metadata": {},
   "outputs": [],
   "source": [
    "co = pd.DataFrame(\n",
    "    {\n",
    "        \"bet_id\": [1, 2, 3, 4],\n",
    "        \"market_id\": [\"1\", \"1\", \"2\", \"1\"],\n",
    "        \"selection_id\": [1, 1, 2, 1],\n",
    "        \"selection_type\": [\"BACK\", \"BACK\", \"LAY\", \"BACK\"],\n",
    "        \"execution_status\": [\n",
    "            \"EXECUTION_COMPLETE\",\n",
    "            \"EXECUTABLE\",\n",
    "            \"EXECUTABLE\",\n",
    "            \"EXECUTION_COMPLETE\",\n",
    "        ],\n",
    "        \"placed_date\": [pd.Timestamp(\"2020-01-01\")] * 4,\n",
    "        \"matched_date\": [pd.Timestamp(\"2020-01-01\")] * 4,\n",
    "        \"average_price_matched\": [3, np.nan, 2, 3.5],\n",
    "        \"size_matched\": [5, 0, 2, 10],\n",
    "        \"size_remaining\": [0, 5, 3, 0],\n",
    "        \"customer_strategy_ref\": [\"mvp\"] * 4,\n",
    "    }\n",
    ")"
   ]
  },
  {
   "cell_type": "code",
   "execution_count": null,
   "metadata": {},
   "outputs": [],
   "source": [
    "df = pd.merge(\n",
    "    sf,\n",
    "    co,\n",
    "    on=[\"market_id\", \"selection_id\", \"selection_type\"],\n",
    "    how=\"left\",\n",
    ")"
   ]
  },
  {
   "cell_type": "code",
   "execution_count": null,
   "metadata": {},
   "outputs": [],
   "source": [
    "df"
   ]
  },
  {
   "cell_type": "code",
   "execution_count": null,
   "metadata": {},
   "outputs": [],
   "source": [
    "matched = df[df[\"execution_status\"] == \"EXECUTION_COMPLETE\"].assign(\n",
    "    matched_status=\"matched\"\n",
    ")\n",
    "unmatched = df[df[\"execution_status\"] != \"EXECUTION_COMPLETE\"].assign(\n",
    "    matched_status=\"unmatched\"\n",
    ")"
   ]
  },
  {
   "cell_type": "code",
   "execution_count": null,
   "metadata": {},
   "outputs": [],
   "source": []
  },
  {
   "cell_type": "code",
   "execution_count": null,
   "metadata": {},
   "outputs": [],
   "source": [
    "group_cols = [\"race_id\", \"market_id\", \"selection_type\", \"selection_id\"]\n",
    "matched[\"payoff\"] = matched[\"size_matched\"] * matched[\"average_price_matched\"]\n",
    "matched[\"total_stake\"] = matched.groupby(group_cols)[\"size_matched\"].transform(\"sum\")\n",
    "matched[\"total_odds\"] = matched.groupby(group_cols)[\"payoff\"].transform(\"sum\")\n",
    "matched[\"ave_odds\"] = (matched[\"total_odds\"] / matched[\"total_stake\"]).round(2)\n",
    "matched = matched.drop_duplicates(subset=group_cols)\n",
    "matched"
   ]
  },
  {
   "cell_type": "code",
   "execution_count": null,
   "metadata": {},
   "outputs": [],
   "source": [
    "matched = matched[\n",
    "    [\n",
    "        \"race_id\",\n",
    "        \"race_time\",\n",
    "        \"race_date\",\n",
    "        \"horse_id\",\n",
    "        \"horse_name\",\n",
    "        \"selection_type\",\n",
    "        \"market_type\",\n",
    "        \"market_id\",\n",
    "        \"selection_id\",\n",
    "        \"requested_odds\",\n",
    "        \"placed_date\",\n",
    "        \"matched_date\",\n",
    "        \"matched_status\",\n",
    "        \"size_remaining\",\n",
    "        \"total_stake\",\n",
    "        \"ave_odds\",\n",
    "    ]\n",
    "].rename(columns={\"total_stake\": \"size_matched\", \"ave_odds\": \"average_price_matched\"})"
   ]
  },
  {
   "cell_type": "code",
   "execution_count": null,
   "metadata": {},
   "outputs": [],
   "source": [
    "unmatched = unmatched[matched.columns]"
   ]
  },
  {
   "cell_type": "code",
   "execution_count": null,
   "metadata": {},
   "outputs": [],
   "source": [
    "unmatched"
   ]
  },
  {
   "cell_type": "code",
   "execution_count": null,
   "metadata": {},
   "outputs": [],
   "source": [
    "data = pd.concat([matched, unmatched])\n",
    "data"
   ]
  },
  {
   "cell_type": "code",
   "execution_count": null,
   "metadata": {},
   "outputs": [],
   "source": [
    "now_timestamp = get_uk_time_now()\n",
    "\n",
    "folder = f\"today/{now_timestamp.strftime('%Y_%m_%d')}\"\n",
    "\n",
    "selections_file_path = f\"{folder}/selections.parquet\"\n",
    "fully_matched_bets_file_path = f\"{folder}/fully_matched_bets.parquet\"\n",
    "cashed_out_bets_file_path = f\"{folder}/cashed_out_bets_bets.parquet\"\n",
    "invalidated_bets_file_path = f\"{folder}/invalidated_bets.parquet\"\n",
    "market_state_file_path = f\"{folder}/market_state.parquet\""
   ]
  },
  {
   "cell_type": "code",
   "execution_count": null,
   "metadata": {},
   "outputs": [],
   "source": [
    "fully_matched_bets = s3_client.fetch_data(fully_matched_bets_file_path)"
   ]
  },
  {
   "cell_type": "code",
   "execution_count": null,
   "metadata": {},
   "outputs": [],
   "source": [
    "fully_matched_bets"
   ]
  },
  {
   "cell_type": "code",
   "execution_count": null,
   "metadata": {},
   "outputs": [],
   "source": [
    "selections = s3_client.fetch_data(selections_file_path)\n",
    "selections"
   ]
  },
  {
   "cell_type": "code",
   "execution_count": null,
   "metadata": {},
   "outputs": [],
   "source": [
    "from pathlib import PosixPath"
   ]
  },
  {
   "cell_type": "code",
   "execution_count": null,
   "metadata": {},
   "outputs": [],
   "source": [
    "a = PosixPath(\n",
    "    \"/Users/tomwattley/Code/python/racing-api-project/racing-api-project/libraries/api-helpers/src/api_helpers/helpers\"\n",
    ")"
   ]
  },
  {
   "cell_type": "code",
   "execution_count": null,
   "metadata": {},
   "outputs": [],
   "source": [
    "path = a.parent.parent.parent.parent.parent / \"apps\" / \"racing-etl\" / \".env\""
   ]
  },
  {
   "cell_type": "code",
   "execution_count": null,
   "metadata": {},
   "outputs": [],
   "source": [
    "path"
   ]
  },
  {
   "cell_type": "code",
   "execution_count": null,
   "metadata": {},
   "outputs": [],
   "source": [
    "\"/Users/tomwattley/Code/python/racing-api-project/racing-api-project/apps/racing-etl/.env\"\n",
    "\n",
    "\"/Users/tomwattley/Code/python/racing-api-project/racing-api-project/apps/racing_etl/.env\""
   ]
  }
 ],
 "metadata": {
  "kernelspec": {
   "display_name": ".venv",
   "language": "python",
   "name": "python3"
  },
  "language_info": {
   "codemirror_mode": {
    "name": "ipython",
    "version": 3
   },
   "file_extension": ".py",
   "mimetype": "text/x-python",
   "name": "python",
   "nbconvert_exporter": "python",
   "pygments_lexer": "ipython3",
   "version": "3.11.12"
  }
 },
 "nbformat": 4,
 "nbformat_minor": 2
}
