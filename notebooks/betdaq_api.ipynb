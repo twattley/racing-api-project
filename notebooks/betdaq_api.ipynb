{
 "cells": [
  {
   "cell_type": "code",
   "execution_count": 2,
   "id": "37d35f68",
   "metadata": {},
   "outputs": [
    {
     "name": "stdout",
     "output_type": "stream",
     "text": [
      "577557_f1f5b19f9b7b97c44938896a38664c9\n"
     ]
    }
   ],
   "source": [
    "import requests\n",
    "import json\n",
    "\n",
    "url = \"https://api.matchbook.com/bpapi/rest/security/session\"\n",
    "payload ={\n",
    "    \"username\":\"trialaccount\",\n",
    "    \"password\":\"RVECSgq*sNRG#93\"\n",
    "    }\n",
    "header = {\n",
    "    'content-type': 'application/json;charset=UTF-8',\n",
    "    'accept': '*/*'\n",
    "}\n",
    "def login():\n",
    "    r = requests.post(url, data=json.dumps(payload), headers=header)\n",
    "    data = r.json()\n",
    "    return data['session-token']\n",
    "\n",
    "\n",
    "token = login()\n",
    "print(token)\n",
    "\n"
   ]
  },
  {
   "cell_type": "code",
   "execution_count": null,
   "id": "8f55a6df",
   "metadata": {},
   "outputs": [],
   "source": []
  }
 ],
 "metadata": {
  "kernelspec": {
   "display_name": "racing-api-project",
   "language": "python",
   "name": "python3"
  },
  "language_info": {
   "codemirror_mode": {
    "name": "ipython",
    "version": 3
   },
   "file_extension": ".py",
   "mimetype": "text/x-python",
   "name": "python",
   "nbconvert_exporter": "python",
   "pygments_lexer": "ipython3",
   "version": "3.11.12"
  }
 },
 "nbformat": 4,
 "nbformat_minor": 5
}
