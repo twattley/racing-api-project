{
 "cells": [
  {
   "cell_type": "code",
   "execution_count": null,
   "metadata": {},
   "outputs": [],
   "source": [
    "from dotenv import load_dotenv\n",
    "\n",
    "load_dotenv(\n",
    "    dotenv_path=\"/Users/tomwattley/App/racing-api-project/racing-api-project/libraries/api-helpers/src/api_helpers/.env\"\n",
    ")\n",
    "from api_helpers.config import Config\n",
    "import pandas as pd\n",
    "\n",
    "config = Config()"
   ]
  },
  {
   "cell_type": "code",
   "execution_count": 2,
   "metadata": {},
   "outputs": [
    {
     "name": "stderr",
     "output_type": "stream",
     "text": [
      "2025-09-05T19:52:53Z | INFO - Logging configuration initialized with level: INFO\n",
      "2025-09-05T19:52:54Z | INFO - Logging into Betfair...\n",
      "2025-09-05T19:52:54Z | INFO - Logged into Betfair!\n"
     ]
    }
   ],
   "source": [
    "from api_helpers.clients import get_betfair_client, get_postgres_client\n",
    "\n",
    "bf_client = get_betfair_client()\n",
    "pg_client = get_postgres_client()"
   ]
  },
  {
   "cell_type": "code",
   "execution_count": 3,
   "metadata": {},
   "outputs": [
    {
     "name": "stderr",
     "output_type": "stream",
     "text": [
      "2025-09-05T19:52:54Z | INFO - No cleared orders found\n"
     ]
    },
    {
     "data": {
      "text/html": [
       "<div>\n",
       "<style scoped>\n",
       "    .dataframe tbody tr th:only-of-type {\n",
       "        vertical-align: middle;\n",
       "    }\n",
       "\n",
       "    .dataframe tbody tr th {\n",
       "        vertical-align: top;\n",
       "    }\n",
       "\n",
       "    .dataframe thead th {\n",
       "        text-align: right;\n",
       "    }\n",
       "</style>\n",
       "<table border=\"1\" class=\"dataframe\">\n",
       "  <thead>\n",
       "    <tr style=\"text-align: right;\">\n",
       "      <th></th>\n",
       "    </tr>\n",
       "  </thead>\n",
       "  <tbody>\n",
       "  </tbody>\n",
       "</table>\n",
       "</div>"
      ],
      "text/plain": [
       "Empty DataFrame\n",
       "Columns: []\n",
       "Index: []"
      ]
     },
     "execution_count": 3,
     "metadata": {},
     "output_type": "execute_result"
    }
   ],
   "source": [
    "# Run DB query and sync Betfair call concurrently\n",
    "from datetime import datetime, timedelta\n",
    "\n",
    "\n",
    "start = (datetime.now() - timedelta(days=1)).strftime(\"%Y-%m-%d\")\n",
    "end = (datetime.now() + timedelta(days=1)).strftime(\"%Y-%m-%d\")\n",
    "\n",
    "bf_client.get_past_orders_by_date_range(start, end)"
   ]
  },
  {
   "cell_type": "code",
   "execution_count": null,
   "metadata": {},
   "outputs": [],
   "source": [
    "current_orders = bf_client.get_current_orders()"
   ]
  },
  {
   "cell_type": "code",
   "execution_count": null,
   "metadata": {},
   "outputs": [],
   "source": [
    "current_orders = current_orders[\n",
    "    current_orders[\"execution_status\"] == \"EXECUTION_COMPLETE\"\n",
    "]"
   ]
  },
  {
   "cell_type": "code",
   "execution_count": 17,
   "metadata": {},
   "outputs": [
    {
     "data": {
      "text/html": [
       "<div>\n",
       "<style scoped>\n",
       "    .dataframe tbody tr th:only-of-type {\n",
       "        vertical-align: middle;\n",
       "    }\n",
       "\n",
       "    .dataframe tbody tr th {\n",
       "        vertical-align: top;\n",
       "    }\n",
       "\n",
       "    .dataframe thead th {\n",
       "        text-align: right;\n",
       "    }\n",
       "</style>\n",
       "<table border=\"1\" class=\"dataframe\">\n",
       "  <thead>\n",
       "    <tr style=\"text-align: right;\">\n",
       "      <th></th>\n",
       "      <th>market_id</th>\n",
       "      <th>selection_id</th>\n",
       "      <th>selection_type</th>\n",
       "      <th>size_matched</th>\n",
       "      <th>average_price_matched</th>\n",
       "    </tr>\n",
       "  </thead>\n",
       "  <tbody>\n",
       "    <tr>\n",
       "      <th>0</th>\n",
       "      <td>1.247398601</td>\n",
       "      <td>59587502</td>\n",
       "      <td>BACK</td>\n",
       "      <td>50.0</td>\n",
       "      <td>3.0</td>\n",
       "    </tr>\n",
       "  </tbody>\n",
       "</table>\n",
       "</div>"
      ],
      "text/plain": [
       "     market_id  selection_id selection_type  size_matched  \\\n",
       "0  1.247398601      59587502           BACK          50.0   \n",
       "\n",
       "   average_price_matched  \n",
       "0                    3.0  "
      ]
     },
     "execution_count": 17,
     "metadata": {},
     "output_type": "execute_result"
    }
   ],
   "source": [
    "current_orders.groupby([\"market_id\", \"selection_id\", \"selection_type\"]).agg(\n",
    "    {\"size_matched\": \"sum\", \"average_price_matched\": \"mean\"}\n",
    ").reset_index().round(2)"
   ]
  },
  {
   "cell_type": "code",
   "execution_count": 14,
   "metadata": {},
   "outputs": [
    {
     "data": {
      "text/html": [
       "<div>\n",
       "<style scoped>\n",
       "    .dataframe tbody tr th:only-of-type {\n",
       "        vertical-align: middle;\n",
       "    }\n",
       "\n",
       "    .dataframe tbody tr th {\n",
       "        vertical-align: top;\n",
       "    }\n",
       "\n",
       "    .dataframe thead th {\n",
       "        text-align: right;\n",
       "    }\n",
       "</style>\n",
       "<table border=\"1\" class=\"dataframe\">\n",
       "  <thead>\n",
       "    <tr style=\"text-align: right;\">\n",
       "      <th></th>\n",
       "      <th>bet_id</th>\n",
       "      <th>market_id</th>\n",
       "      <th>selection_id</th>\n",
       "      <th>selection_type</th>\n",
       "      <th>execution_status</th>\n",
       "      <th>placed_date</th>\n",
       "      <th>matched_date</th>\n",
       "      <th>average_price_matched</th>\n",
       "      <th>customer_strategy_ref</th>\n",
       "      <th>size_matched</th>\n",
       "      <th>size_remaining</th>\n",
       "      <th>size_lapsed</th>\n",
       "      <th>size_cancelled</th>\n",
       "      <th>size_voided</th>\n",
       "      <th>price</th>\n",
       "      <th>size</th>\n",
       "    </tr>\n",
       "  </thead>\n",
       "  <tbody>\n",
       "    <tr>\n",
       "      <th>0</th>\n",
       "      <td>400751391457</td>\n",
       "      <td>1.247398601</td>\n",
       "      <td>59587502</td>\n",
       "      <td>BACK</td>\n",
       "      <td>EXECUTION_COMPLETE</td>\n",
       "      <td>2025-09-05T18:30:01.000Z</td>\n",
       "      <td>2025-09-05T18:30:01.000Z</td>\n",
       "      <td>3.05</td>\n",
       "      <td>trader</td>\n",
       "      <td>26.0</td>\n",
       "      <td>0.0</td>\n",
       "      <td>0.0</td>\n",
       "      <td>0.0</td>\n",
       "      <td>0.0</td>\n",
       "      <td>3.05</td>\n",
       "      <td>26.0</td>\n",
       "    </tr>\n",
       "    <tr>\n",
       "      <th>1</th>\n",
       "      <td>400752233849</td>\n",
       "      <td>1.247398601</td>\n",
       "      <td>59587502</td>\n",
       "      <td>BACK</td>\n",
       "      <td>EXECUTION_COMPLETE</td>\n",
       "      <td>2025-09-05T18:36:56.000Z</td>\n",
       "      <td>2025-09-05T18:36:56.000Z</td>\n",
       "      <td>3.00</td>\n",
       "      <td>trader</td>\n",
       "      <td>9.0</td>\n",
       "      <td>0.0</td>\n",
       "      <td>0.0</td>\n",
       "      <td>0.0</td>\n",
       "      <td>0.0</td>\n",
       "      <td>3.00</td>\n",
       "      <td>9.0</td>\n",
       "    </tr>\n",
       "    <tr>\n",
       "      <th>2</th>\n",
       "      <td>400752338888</td>\n",
       "      <td>1.247398601</td>\n",
       "      <td>59587502</td>\n",
       "      <td>BACK</td>\n",
       "      <td>EXECUTION_COMPLETE</td>\n",
       "      <td>2025-09-05T18:37:48.000Z</td>\n",
       "      <td>2025-09-05T18:37:48.000Z</td>\n",
       "      <td>2.98</td>\n",
       "      <td>trader</td>\n",
       "      <td>5.0</td>\n",
       "      <td>0.0</td>\n",
       "      <td>0.0</td>\n",
       "      <td>0.0</td>\n",
       "      <td>0.0</td>\n",
       "      <td>2.98</td>\n",
       "      <td>5.0</td>\n",
       "    </tr>\n",
       "    <tr>\n",
       "      <th>3</th>\n",
       "      <td>400753030895</td>\n",
       "      <td>1.247398601</td>\n",
       "      <td>59587502</td>\n",
       "      <td>BACK</td>\n",
       "      <td>EXECUTION_COMPLETE</td>\n",
       "      <td>2025-09-05T18:42:57.000Z</td>\n",
       "      <td>2025-09-05T18:42:58.000Z</td>\n",
       "      <td>2.96</td>\n",
       "      <td>trader</td>\n",
       "      <td>10.0</td>\n",
       "      <td>0.0</td>\n",
       "      <td>0.0</td>\n",
       "      <td>0.0</td>\n",
       "      <td>0.0</td>\n",
       "      <td>2.96</td>\n",
       "      <td>10.0</td>\n",
       "    </tr>\n",
       "  </tbody>\n",
       "</table>\n",
       "</div>"
      ],
      "text/plain": [
       "         bet_id    market_id  selection_id selection_type    execution_status  \\\n",
       "0  400751391457  1.247398601      59587502           BACK  EXECUTION_COMPLETE   \n",
       "1  400752233849  1.247398601      59587502           BACK  EXECUTION_COMPLETE   \n",
       "2  400752338888  1.247398601      59587502           BACK  EXECUTION_COMPLETE   \n",
       "3  400753030895  1.247398601      59587502           BACK  EXECUTION_COMPLETE   \n",
       "\n",
       "                placed_date              matched_date  average_price_matched  \\\n",
       "0  2025-09-05T18:30:01.000Z  2025-09-05T18:30:01.000Z                   3.05   \n",
       "1  2025-09-05T18:36:56.000Z  2025-09-05T18:36:56.000Z                   3.00   \n",
       "2  2025-09-05T18:37:48.000Z  2025-09-05T18:37:48.000Z                   2.98   \n",
       "3  2025-09-05T18:42:57.000Z  2025-09-05T18:42:58.000Z                   2.96   \n",
       "\n",
       "  customer_strategy_ref  size_matched  size_remaining  size_lapsed  \\\n",
       "0                trader          26.0             0.0          0.0   \n",
       "1                trader           9.0             0.0          0.0   \n",
       "2                trader           5.0             0.0          0.0   \n",
       "3                trader          10.0             0.0          0.0   \n",
       "\n",
       "   size_cancelled  size_voided  price  size  \n",
       "0             0.0          0.0   3.05  26.0  \n",
       "1             0.0          0.0   3.00   9.0  \n",
       "2             0.0          0.0   2.98   5.0  \n",
       "3             0.0          0.0   2.96  10.0  "
      ]
     },
     "execution_count": 14,
     "metadata": {},
     "output_type": "execute_result"
    }
   ],
   "source": [
    "current_orders"
   ]
  },
  {
   "cell_type": "code",
   "execution_count": null,
   "metadata": {},
   "outputs": [],
   "source": []
  }
 ],
 "metadata": {
  "kernelspec": {
   "display_name": "racing-api-project",
   "language": "python",
   "name": "python3"
  },
  "language_info": {
   "codemirror_mode": {
    "name": "ipython",
    "version": 3
   },
   "file_extension": ".py",
   "mimetype": "text/x-python",
   "name": "python",
   "nbconvert_exporter": "python",
   "pygments_lexer": "ipython3",
   "version": "3.11.12"
  }
 },
 "nbformat": 4,
 "nbformat_minor": 2
}
