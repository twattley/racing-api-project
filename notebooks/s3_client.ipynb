{
 "cells": [
  {
   "cell_type": "code",
   "execution_count": null,
   "metadata": {},
   "outputs": [
    {
     "name": "stdout",
     "output_type": "stream",
     "text": [
      "chromedriver_path='/Users/tomwattley/chromedriver/chromedriver' bf_username='trialaccount83' bf_password='q4Nnt#n*fbgs-dT' bf_app_key='l5XwEV3zntgcJfQz' bf_certs_path='/Users/tomwattley/.betfair/certs' db_host='localhost' db_user='postgres' db_name='racing-api' db_password='postgres' db_port=5432 tf_email='wattley83@gmail.com' tf_password='Watford_1' tf_login_url='https://www.timeform.com/login' s3_access_key='DO00C3GGW83ZHW4VZJ6V' s3_secret_access_key='1iR/OmKJhCFR21FfFkwG2S/67I+fvtB7g/cwLmWq3RM' s3_region_name='lon1' s3_endpoint_url='https://lon1.digitaloceanspaces.com' s3_bucket_name='racingapi' db=DB(raw=RawSchema(todays_data=TodaysData(links_view='missing_todays_dates', links_table='todays_links', data_table='todays_data'), results_data=ResultsData(links_view='missing_dates', links_table='results_links', data_view='missing_results_links', data_table='results_data', data_world_view='missing_results_links_world', data_world_table='results_data_world')))\n"
     ]
    }
   ],
   "source": [
    "from dotenv import load_dotenv\n",
    "\n",
    "load_dotenv(\n",
    "    dotenv_path=\"/Users/tomwattley/App/racing-api-project/racing-api-project/libraries/api-helpers/src/api_helpers/.env\"\n",
    ")\n",
    "from api_helpers.config import Config\n",
    "\n",
    "config = Config()"
   ]
  },
  {
   "cell_type": "code",
   "execution_count": 6,
   "metadata": {},
   "outputs": [],
   "source": [
    "from racing_etl.raw.webdriver.web_driver import WebDriver\n",
    "\n",
    "driver = WebDriver(config, headless_mode=False)"
   ]
  },
  {
   "cell_type": "code",
   "execution_count": 8,
   "metadata": {},
   "outputs": [
    {
     "name": "stderr",
     "output_type": "stream",
     "text": [
      "2025-05-27T05:41:05Z | INFO - Webdriver session created\n"
     ]
    }
   ],
   "source": [
    "driver = driver.create_session()"
   ]
  },
  {
   "cell_type": "code",
   "execution_count": 10,
   "metadata": {},
   "outputs": [],
   "source": [
    "driver.get(\"https://www.racingpost.com/racecards/175/ballinrobe/2025-05-27/896673\")"
   ]
  },
  {
   "cell_type": "code",
   "execution_count": 12,
   "metadata": {},
   "outputs": [],
   "source": []
  },
  {
   "cell_type": "code",
   "execution_count": 13,
   "metadata": {},
   "outputs": [],
   "source": [
    "import pandas as pd\n",
    "from datetime import datetime\n",
    "\n",
    "df = pd.DataFrame(\n",
    "    {\n",
    "        \"col1\": [1, 1, 2, 2],\n",
    "        \"col2\": [2, 2, 3, 3],\n",
    "        \"col3\": [3, 3, 4, 4],\n",
    "        \"col4\": [\"a\", \"a\", \"b\", \"b\"],\n",
    "        \"col5\": [True, True, False, False],\n",
    "        \"col6\": [\n",
    "            datetime(2000, 1, 1),\n",
    "            datetime(2000, 1, 1),\n",
    "            datetime(2000, 1, 1),\n",
    "            datetime(2000, 1, 1),\n",
    "        ],\n",
    "    }\n",
    ")"
   ]
  },
  {
   "cell_type": "code",
   "execution_count": 15,
   "metadata": {},
   "outputs": [
    {
     "name": "stdout",
     "output_type": "stream",
     "text": [
      "<class 'pandas.core.frame.DataFrame'>\n",
      "RangeIndex: 4 entries, 0 to 3\n",
      "Data columns (total 6 columns):\n",
      " #   Column  Non-Null Count  Dtype         \n",
      "---  ------  --------------  -----         \n",
      " 0   col1    4 non-null      int64         \n",
      " 1   col2    4 non-null      int64         \n",
      " 2   col3    4 non-null      int64         \n",
      " 3   col4    4 non-null      object        \n",
      " 4   col5    4 non-null      bool          \n",
      " 5   col6    4 non-null      datetime64[ns]\n",
      "dtypes: bool(1), datetime64[ns](1), int64(3), object(1)\n",
      "memory usage: 296.0+ bytes\n"
     ]
    }
   ],
   "source": [
    "df.info()"
   ]
  },
  {
   "cell_type": "code",
   "execution_count": 18,
   "metadata": {},
   "outputs": [],
   "source": [
    "import pandas as pd\n",
    "import re\n",
    "\n",
    "\n",
    "def print_dataframe_for_testing(df):\n",
    "    print(\"pd.DataFrame({\")\n",
    "\n",
    "    for col in df.columns:\n",
    "        value = df[col].iloc[0]\n",
    "        if re.match(r\"\\d{4}-\\d{2}-\\d{2}\", str(value)):\n",
    "            str_test = (\n",
    "                \"[\" + \" \".join([f\"pd.Timestamp('{x}'),\" for x in list(df[col])]) + \"]\"\n",
    "            )\n",
    "            print(f\"'{col}':{str_test},\")\n",
    "        else:\n",
    "            print(f\"'{col}':{list(df[col])},\")\n",
    "    print(\"})\")\n",
    "    print(df.info())"
   ]
  },
  {
   "cell_type": "code",
   "execution_count": 19,
   "metadata": {},
   "outputs": [
    {
     "name": "stdout",
     "output_type": "stream",
     "text": [
      "pd.DataFrame({\n",
      "'col1':[1, 1, 2, 2],\n",
      "'col2':[2, 2, 3, 3],\n",
      "'col3':[3, 3, 4, 4],\n",
      "'col4':['a', 'a', 'b', 'b'],\n",
      "'col5':[True, True, False, False],\n",
      "'col6':[pd.Timestamp('2000-01-01 00:00:00'), pd.Timestamp('2000-01-01 00:00:00'), pd.Timestamp('2000-01-01 00:00:00'), pd.Timestamp('2000-01-01 00:00:00'),],\n",
      "})\n",
      "<class 'pandas.core.frame.DataFrame'>\n",
      "RangeIndex: 4 entries, 0 to 3\n",
      "Data columns (total 6 columns):\n",
      " #   Column  Non-Null Count  Dtype         \n",
      "---  ------  --------------  -----         \n",
      " 0   col1    4 non-null      int64         \n",
      " 1   col2    4 non-null      int64         \n",
      " 2   col3    4 non-null      int64         \n",
      " 3   col4    4 non-null      object        \n",
      " 4   col5    4 non-null      bool          \n",
      " 5   col6    4 non-null      datetime64[ns]\n",
      "dtypes: bool(1), datetime64[ns](1), int64(3), object(1)\n",
      "memory usage: 296.0+ bytes\n",
      "None\n"
     ]
    }
   ],
   "source": [
    "print_dataframe_for_testing(df)"
   ]
  },
  {
   "cell_type": "code",
   "execution_count": null,
   "metadata": {},
   "outputs": [],
   "source": []
  }
 ],
 "metadata": {
  "kernelspec": {
   "display_name": ".venv",
   "language": "python",
   "name": "python3"
  },
  "language_info": {
   "codemirror_mode": {
    "name": "ipython",
    "version": 3
   },
   "file_extension": ".py",
   "mimetype": "text/x-python",
   "name": "python",
   "nbconvert_exporter": "python",
   "pygments_lexer": "ipython3",
   "version": "3.11.12"
  }
 },
 "nbformat": 4,
 "nbformat_minor": 2
}
