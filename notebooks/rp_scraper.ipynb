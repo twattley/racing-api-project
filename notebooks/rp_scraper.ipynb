{
 "cells": [
  {
   "cell_type": "code",
   "execution_count": null,
   "metadata": {},
   "outputs": [],
   "source": [
    "from dotenv import load_dotenv\n",
    "\n",
    "load_dotenv(\n",
    "    dotenv_path=\"/Users/tomwattley/App/racing-api-project/racing-api-project/libraries/api-helpers/src/api_helpers/.env\"\n",
    ")\n",
    "from api_helpers.config import Config\n",
    "\n",
    "config = Config()"
   ]
  },
  {
   "cell_type": "code",
   "execution_count": null,
   "metadata": {},
   "outputs": [],
   "source": [
    "from racing_etl.raw.webdriver.web_driver import WebDriver\n",
    "\n",
    "driver = WebDriver(config, headless_mode=False)"
   ]
  },
  {
   "cell_type": "code",
   "execution_count": null,
   "metadata": {},
   "outputs": [],
   "source": [
    "driver = driver.create_session()"
   ]
  },
  {
   "cell_type": "code",
   "execution_count": null,
   "metadata": {},
   "outputs": [],
   "source": [
    "driver.get(\"https://www.racingpost.com/racecards/175/ballinrobe/2025-05-27/896673\")"
   ]
  },
  {
   "cell_type": "code",
   "execution_count": null,
   "metadata": {},
   "outputs": [],
   "source": []
  },
  {
   "cell_type": "code",
   "execution_count": null,
   "metadata": {},
   "outputs": [],
   "source": [
    "import pandas as pd\n",
    "from datetime import datetime\n",
    "\n",
    "df = pd.DataFrame(\n",
    "    {\n",
    "        \"col1\": [1, 1, 2, 2],\n",
    "        \"col2\": [2, 2, 3, 3],\n",
    "        \"col3\": [3, 3, 4, 4],\n",
    "        \"col4\": [\"a\", \"a\", \"b\", \"b\"],\n",
    "        \"col5\": [True, True, False, False],\n",
    "        \"col6\": [\n",
    "            datetime(2000, 1, 1),\n",
    "            datetime(2000, 1, 1),\n",
    "            datetime(2000, 1, 1),\n",
    "            datetime(2000, 1, 1),\n",
    "        ],\n",
    "    }\n",
    ")"
   ]
  },
  {
   "cell_type": "code",
   "execution_count": null,
   "metadata": {},
   "outputs": [],
   "source": [
    "df.info()"
   ]
  },
  {
   "cell_type": "code",
   "execution_count": null,
   "metadata": {},
   "outputs": [],
   "source": [
    "import pandas as pd\n",
    "import re\n",
    "\n",
    "\n",
    "def print_dataframe_for_testing(df):\n",
    "    print(\"pd.DataFrame({\")\n",
    "\n",
    "    for col in df.columns:\n",
    "        value = df[col].iloc[0]\n",
    "        if re.match(r\"\\d{4}-\\d{2}-\\d{2}\", str(value)):\n",
    "            str_test = (\n",
    "                \"[\" + \" \".join([f\"pd.Timestamp('{x}'),\" for x in list(df[col])]) + \"]\"\n",
    "            )\n",
    "            print(f\"'{col}':{str_test},\")\n",
    "        else:\n",
    "            print(f\"'{col}':{list(df[col])},\")\n",
    "    print(\"})\")\n",
    "    print(df.info())"
   ]
  },
  {
   "cell_type": "code",
   "execution_count": null,
   "metadata": {},
   "outputs": [],
   "source": [
    "print_dataframe_for_testing(df)"
   ]
  },
  {
   "cell_type": "code",
   "execution_count": null,
   "metadata": {},
   "outputs": [],
   "source": []
  }
 ],
 "metadata": {
  "kernelspec": {
   "display_name": ".venv",
   "language": "python",
   "name": "python3"
  },
  "language_info": {
   "codemirror_mode": {
    "name": "ipython",
    "version": 3
   },
   "file_extension": ".py",
   "mimetype": "text/x-python",
   "name": "python",
   "nbconvert_exporter": "python",
   "pygments_lexer": "ipython3",
   "version": "3.11.12"
  }
 },
 "nbformat": 4,
 "nbformat_minor": 2
}
